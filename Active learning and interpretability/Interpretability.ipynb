{
 "cells": [
  {
   "cell_type": "code",
   "execution_count": 35,
   "metadata": {},
   "outputs": [],
   "source": [
    "import matplotlib.pyplot as plt\n",
    "import pandas as pd\n",
    "import seaborn as sns\n",
    "from sklearn.metrics import mean_squared_error\n"
   ]
  },
  {
   "cell_type": "code",
   "execution_count": 36,
   "metadata": {},
   "outputs": [],
   "source": [
    "from sklearn import datasets\n",
    "from sklearn.model_selection import train_test_split, cross_val_score\n",
    "\n",
    "diabetes = datasets.load_diabetes()\n",
    "feature_names = diabetes.feature_names\n",
    "X_train, X_test, y_train, y_test = train_test_split(diabetes.data, diabetes.target, test_size=0.2, random_state=42)\n"
   ]
  },
  {
   "cell_type": "code",
   "execution_count": 37,
   "metadata": {},
   "outputs": [],
   "source": [
    "from sklearn.preprocessing import MinMaxScaler\n",
    "\n",
    "scaler = MinMaxScaler()\n",
    "scaler.fit(X_train)\n",
    "x_train = scaler.transform(X_train)\n",
    "x_test = scaler.transform(X_test)"
   ]
  },
  {
   "cell_type": "code",
   "execution_count": 38,
   "metadata": {},
   "outputs": [
    {
     "name": "stdout",
     "output_type": "stream",
     "text": [
      "MSE: 3332.505617977528\n"
     ]
    },
    {
     "name": "stderr",
     "output_type": "stream",
     "text": [
      "c:\\Users\\kyriaki.potamopoulou\\AppData\\Local\\Programs\\Python\\Python310\\lib\\site-packages\\sklearn\\linear_model\\_sag.py:350: ConvergenceWarning: The max_iter was reached which means the coef_ did not converge\n",
      "  warnings.warn(\n"
     ]
    }
   ],
   "source": [
    "from sklearn.linear_model import LogisticRegression\n",
    "\n",
    "regression_model = LogisticRegression(penalty='l2', C=1000, random_state=3, solver=\"saga\")\n",
    "regression_model.fit(x_train, y_train)\n",
    "\n",
    "y_pred = regression_model.predict(x_test)\n",
    "\n",
    "mse_test = mean_squared_error(y_test, y_pred)\n",
    "print(\"MSE:\", mse_test)"
   ]
  },
  {
   "attachments": {},
   "cell_type": "markdown",
   "metadata": {},
   "source": [
    "GLOBAL INTERPRETATION"
   ]
  },
  {
   "attachments": {},
   "cell_type": "markdown",
   "metadata": {},
   "source": [
    "Feature Information:\n",
    "- age     age in years\n",
    "- sex\n",
    "- bmi     body mass index \n",
    "- bp      average blood pressure\n",
    "- s1      tc, total serum cholesterol\n",
    "- s2      ldl, low-density lipoproteins\n",
    "- s3      hdl, high-density lipoproteins\n",
    "- s4      tch, total cholesterol / HDL\n",
    "- s5      ltg, possibly log of serum triglycerides level\n",
    "- s6      glu, blood sugar level"
   ]
  },
  {
   "cell_type": "code",
   "execution_count": 39,
   "metadata": {},
   "outputs": [
    {
     "name": "stdout",
     "output_type": "stream",
     "text": [
      "Number of features: 10\n"
     ]
    },
    {
     "data": {
      "image/png": "[encoded data removed]",
      "text/plain": [
       "<Figure size 800x600 with 1 Axes>"
      ]
     },
     "metadata": {},
     "output_type": "display_data"
    }
   ],
   "source": [
    "weights = regression_model.coef_\n",
    "model_weights = pd.DataFrame({ 'features': feature_names,'weights': weights[0]})\n",
    "model_weights = model_weights.reindex(model_weights['weights'].abs().sort_values(ascending=False).index) \n",
    "model_weights = model_weights[(model_weights[\"weights\"] != 0)]    \n",
    "print(\"Number of features:\",len(model_weights.values))\n",
    "plt.figure(num=None, figsize=(8, 6), dpi=100, facecolor='w', edgecolor='k')\n",
    "sns.barplot(x=\"weights\", y=\"features\", data=model_weights)\n",
    "plt.title(\"Intercept (Bias): \"+str(regression_model.intercept_[0]),loc='right')\n",
    "plt.xticks(rotation=90)\n",
    "plt.show()"
   ]
  },
  {
   "attachments": {},
   "cell_type": "markdown",
   "metadata": {},
   "source": [
    "\n",
    "Based on the plotted feature importance, it is evident that the gender feature holds the most significance. This conclusion is drawn from observing the highest absolute value of the coefficient assigned to this feature among all the features. In the context of the model and dataset, a negative coefficient for gender suggests that having a gender value of 1 is associated with a decrease in the diabetes risk compared to being the oposite gender."
   ]
  },
  {
   "attachments": {},
   "cell_type": "markdown",
   "metadata": {},
   "source": [
    "Local interpretation"
   ]
  },
  {
   "cell_type": "code",
   "execution_count": 40,
   "metadata": {},
   "outputs": [
    {
     "data": {
      "application/vnd.jupyter.widget-view+json": {
       "model_id": "22f46362a6dc413494d91c3a756b95aa",
       "version_major": 2,
       "version_minor": 0
      },
      "text/plain": [
       "interactive(children=(IntSlider(value=0, description='instance', max=9), Output()), _dom_classes=('widget-inte…"
      ]
     },
     "metadata": {},
     "output_type": "display_data"
    }
   ],
   "source": [
    "from IPython.display import SVG\n",
    "from IPython.display import display                               \n",
    "from ipywidgets import interactive\n",
    "\n",
    "def plot_sensor(instance=0):\n",
    "  random_instance = x_test[instance]\n",
    "\n",
    "  weights = regression_model.coef_\n",
    "  summation = sum(weights[0]*random_instance)\n",
    "  bias = regression_model.intercept_[0]\n",
    "  res = \"\"\n",
    "  if (summation + bias > 0):\n",
    "    res = \" > 0 -> 1\"\n",
    "  else:\n",
    "    res = \" <= 0 -> 0\"\n",
    "  print(\"Sum(weights*instance): \"+str(summation)+\" + Intercept (Bias): \"+str(bias)+\" = \"+ str(summation+bias)+ res)\n",
    "  model_weights = pd.DataFrame({ 'features': list(feature_names),'weights*values': list(weights[0]*random_instance)})\n",
    "  model_weights = model_weights.reindex(model_weights['weights*values'].abs().sort_values(ascending=False).index) #Sort by absolute value\n",
    "  model_weights = model_weights[(model_weights[\"weights*values\"] != 0)]    \n",
    "  print(\"Number of features:\",len(model_weights.values))\n",
    "  plt.figure(num=None, figsize=(8, 6), dpi=100, facecolor='w', edgecolor='k')\n",
    "  sns.barplot(x=\"weights*values\", y=\"features\", data=model_weights)\n",
    "  plt.xticks(rotation=90)\n",
    "  plt.show()\n",
    "\n",
    "inter=interactive(plot_sensor, instance=(0,9))\n",
    "display(inter)"
   ]
  },
  {
   "attachments": {},
   "cell_type": "markdown",
   "metadata": {},
   "source": [
    "In the global interpretation of the model, it was observed that the gender feature had the most significant influence overall. This statement is verified by considering the local interpretation for individual instances. Specifically, it was found that six out of the 10 instances assigned the highest weight to the sex feature. For the first instance (instance 0), the local interpretation reveals that most features have negative weights, indicating a negative correlation with the target variable. Additionally, the diagram suggests that the total serum cholesterol feature has the most significant influence, followed by the low-density lipoproteins and blood sugar level features."
   ]
  },
  {
   "attachments": {},
   "cell_type": "markdown",
   "metadata": {},
   "source": [
    "Black Box"
   ]
  },
  {
   "cell_type": "code",
   "execution_count": 41,
   "metadata": {},
   "outputs": [
    {
     "name": "stdout",
     "output_type": "stream",
     "text": [
      "MSE: 2413.5179109448727\n"
     ]
    }
   ],
   "source": [
    "from sklearn.svm import SVR\n",
    "\n",
    "regressorSVR = SVR(kernel='rbf', C=26.0)\n",
    "\n",
    "regressorSVR.fit(x_train, y_train)\n",
    "\n",
    "y_pred = regressorSVR.predict(x_test)\n",
    "\n",
    "mse = mean_squared_error(y_test, y_pred)\n",
    "print(\"MSE:\", mse)"
   ]
  },
  {
   "cell_type": "code",
   "execution_count": 42,
   "metadata": {},
   "outputs": [],
   "source": [
    "new_x_train = x_train\n",
    "new_y_train = regressorSVR.predict(x_train)"
   ]
  },
  {
   "attachments": {},
   "cell_type": "markdown",
   "metadata": {},
   "source": [
    "Global interpretation "
   ]
  },
  {
   "cell_type": "code",
   "execution_count": 46,
   "metadata": {},
   "outputs": [
    {
     "name": "stdout",
     "output_type": "stream",
     "text": [
      "MSE: 2862.7203309185434\n",
      "Number of features: 10\n"
     ]
    },
    {
     "data": {
      "image/png": "[encoded data removed]",
      "text/plain": [
       "<Figure size 800x600 with 1 Axes>"
      ]
     },
     "metadata": {},
     "output_type": "display_data"
    }
   ],
   "source": [
    "from sklearn.linear_model import LinearRegression\n",
    "\n",
    "lin_model =  LinearRegression()\n",
    "\n",
    "lin_model.fit(new_x_train, new_y_train)\n",
    "\n",
    "y_pred = lin_model.predict(x_test)\n",
    "\n",
    "mse_test = mean_squared_error(y_test, y_pred)\n",
    "print(\"MSE:\", mse_test)\n",
    "\n",
    "intercept = lin_model.intercept_\n",
    "\n",
    "weights = lin_model.coef_\n",
    "model_weights = pd.DataFrame({ 'features': feature_names,'weights': weights})\n",
    "model_weights = model_weights.reindex(model_weights['weights'].abs().sort_values(ascending=False).index) \n",
    "model_weights = model_weights[(model_weights[\"weights\"] != 0)]    \n",
    "\n",
    "print(\"Number of features:\",len(model_weights.values))\n",
    "plt.figure(num=None, figsize=(8, 6), dpi=100, facecolor='w', edgecolor='k')\n",
    "sns.barplot(x=\"weights\", y=\"features\", data=model_weights)\n",
    "plt.title(\"Intercept (Bias): \"+str(intercept),loc='right')\n",
    "plt.xticks(rotation=90)\n",
    "plt.show()"
   ]
  },
  {
   "attachments": {},
   "cell_type": "markdown",
   "metadata": {},
   "source": [
    "Based on the plotted feature importance, it is evident that the Log of serum triglycerides level feature holds the most significance. This conclusion is drawn from observing the highest absolute value of the coefficient assigned to this feature among all the features. In the context of the model and dataset, the positive coefficients associated with most features indicate that higher values of these features tend to correspond to higher predicted values of the target variable. This suggests a positive relationship between these features and the target variable meaning that these features are associated with an increase in the diabetes risk. Furthermore, the weights associated with features s5, bmi, and s1 have an absolute value close to 100. This suggests a strong connection between these features and the target variable. The high magnitude of these weights indicates that changes in s5, bmi, and s1 have a significant influence on the predicted outcome."
   ]
  },
  {
   "attachments": {},
   "cell_type": "markdown",
   "metadata": {},
   "source": [
    "Local interpretation"
   ]
  },
  {
   "cell_type": "code",
   "execution_count": 44,
   "metadata": {},
   "outputs": [],
   "source": [
    "from sklearn.neighbors import KNeighborsRegressor\n",
    "from sklearn.metrics import classification_report\n",
    "\n",
    "knnmodel = KNeighborsRegressor(n_neighbors=89, weights=\"distance\", metric=\"minkowski\", p=2)\n",
    "knnmodel = knnmodel.fit(new_x_train, new_y_train)\n",
    "\n",
    "test_x = [x_test[0]]\n",
    "ys = knnmodel.kneighbors(test_x, n_neighbors=89, return_distance=False)\n",
    "new_x_train2 = []\n",
    "new_y_train2 = []\n",
    "for i in ys[0]:\n",
    "    new_x_train2.append(new_x_train[i])\n",
    "    new_y_train2.append(new_y_train[i])"
   ]
  },
  {
   "cell_type": "code",
   "execution_count": 48,
   "metadata": {},
   "outputs": [
    {
     "data": {
      "application/vnd.jupyter.widget-view+json": {
       "model_id": "e01fd01241304c0f93e1a6af062b9e4d",
       "version_major": 2,
       "version_minor": 0
      },
      "text/plain": [
       "interactive(children=(IntSlider(value=0, description='instance', max=9), Output()), _dom_classes=('widget-inte…"
      ]
     },
     "metadata": {},
     "output_type": "display_data"
    }
   ],
   "source": [
    "lin_model = LinearRegression()\n",
    "lin_model.fit(new_x_train2, new_y_train2)\n",
    "predicted_train = lin_model.predict(new_x_train2)\n",
    "predicted_test = lin_model.predict(x_test)\n",
    "predicted_mse_test = mean_squared_error(y_test, predicted_test)\n",
    "\n",
    "target_names = diabetes.target\n",
    "\n",
    "from IPython.display import SVG\n",
    "from IPython.display import display                               \n",
    "from sklearn.metrics import accuracy_score\n",
    "\n",
    "def plot_sensor(instance=0):\n",
    "  random_instance = x_test[instance]\n",
    "\n",
    "  print(f\"Original Class: {target_names[int(y_test[instance])]}, Predicted Class: {target_names[int(predicted_test[instance])]}\")\n",
    "  weights = lin_model.coef_\n",
    "  summation = sum(weights*random_instance)\n",
    "  bias = lin_model.intercept_\n",
    "  res = \"\"\n",
    "  if (summation + bias > 0):\n",
    "    res = \" > 0 -> 1\"\n",
    "  else:\n",
    "    res = \" <= 0 -> 0\"\n",
    "  print(f\"Sum(weights*instance): {str(summation)} Intercept (Bias): {str(bias)} {str(summation+bias)+ res}\")\n",
    "  model_weights = pd.DataFrame({ 'features': list(feature_names),'weights*values': list(weights*random_instance)})\n",
    "  model_weights = model_weights.reindex(model_weights['weights*values'].abs().sort_values(ascending=False).index) \n",
    "  model_weights = model_weights[(model_weights[\"weights*values\"] != 0)]    \n",
    "  print(\"Number of features:\",len(model_weights.values))\n",
    "  plt.figure(num=None, figsize=(8, 6), dpi=100, facecolor='w', edgecolor='k')\n",
    "  sns.barplot(x=\"weights*values\", y=\"features\", data=model_weights)\n",
    "  plt.xticks(rotation=90)\n",
    "  plt.show()\n",
    "inter=interactive(plot_sensor \n",
    "   , instance=(0,9))\n",
    "display(inter)"
   ]
  },
  {
   "attachments": {},
   "cell_type": "markdown",
   "metadata": {},
   "source": [
    "In the global interpretation of the model, it was observed that the s5 feature had the most significant influence overall. However, this statement is not verified by considering the local interpretation for individual instances. Specifically, it was found that 7 out of the 10 instances assigned the highest weight to s1 sex feature. For the fifth instance (instance 5), the local interpretation reveals that most contributed features have positive weights, indicating a positive correlation with the target variable. Additionally, the diagram suggests that the total serum cholesterol feature has the most significant influence, followed by the low-density lipoproteins and possibly log of serum triglycerides level features. Additionally, the plot reveals that both the sex and s4 features have negligible contributions to the predictions. This is evident from the weights assigned to these features, which are exactly 0. Consequently, these features do not play a significant role in determining the predicted outcome."
   ]
  }
 ],
 "metadata": {
  "kernelspec": {
   "display_name": "Python 3",
   "language": "python",
   "name": "python3"
  },
  "language_info": {
   "codemirror_mode": {
    "name": "ipython",
    "version": 3
   },
   "file_extension": ".py",
   "mimetype": "text/x-python",
   "name": "python",
   "nbconvert_exporter": "python",
   "pygments_lexer": "ipython3",
   "version": "3.10.0"
  },
  "orig_nbformat": 4
 },
 "nbformat": 4,
 "nbformat_minor": 2
}
