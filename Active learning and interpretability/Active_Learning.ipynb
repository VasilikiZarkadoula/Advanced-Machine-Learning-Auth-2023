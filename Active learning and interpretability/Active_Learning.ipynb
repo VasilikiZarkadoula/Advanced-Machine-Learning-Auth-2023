{
 "cells": [
  {
   "cell_type": "markdown",
   "metadata": {
    "id": "Bx7U9ufvZWO9"
   },
   "source": [
    "# Install dependencies"
   ]
  },
  {
   "cell_type": "code",
   "execution_count": 1,
   "metadata": {
    "colab": {
     "base_uri": "https://localhost:8080/"
    },
    "id": "qgOJgc_dZZNY",
    "outputId": "007e3fd4-8356-44f7-c611-27d0cf6568dc"
   },
   "outputs": [],
   "source": [
    "#!pip install modAL"
   ]
  },
  {
   "cell_type": "code",
   "execution_count": 13,
   "metadata": {},
   "outputs": [],
   "source": [
    "from sklearn.datasets import load_diabetes\n",
    "from sklearn.model_selection import train_test_split\n",
    "from modAL.models import ActiveLearner\n",
    "from modAL.uncertainty import entropy_sampling, uncertainty_sampling, margin_sampling\n",
    "from sklearn.ensemble import RandomForestClassifier\n",
    "from sklearn.svm import SVC\n",
    "from sklearn.naive_bayes import GaussianNB\n",
    "import numpy as np\n",
    "import random\n",
    "from sklearn import metrics\n",
    "from matplotlib import pyplot as plt\n",
    "%matplotlib inline"
   ]
  },
  {
   "cell_type": "markdown",
   "metadata": {
    "id": "IKystG1HZTQb"
   },
   "source": [
    "# Load dataset"
   ]
  },
  {
   "cell_type": "code",
   "execution_count": 20,
   "metadata": {},
   "outputs": [
    {
     "data": {
      "text/plain": [
       "(442, 10)"
      ]
     },
     "execution_count": 20,
     "metadata": {},
     "output_type": "execute_result"
    }
   ],
   "source": [
    "X, y = load_diabetes(return_X_y=True)\n",
    "X.shape"
   ]
  },
  {
   "cell_type": "code",
   "execution_count": 21,
   "metadata": {},
   "outputs": [
    {
     "name": "stdout",
     "output_type": "stream",
     "text": [
      "\n",
      "--- Using Uncertainty Sampling strategy ---\n",
      "\n",
      "- Random Forest Classifier -\n",
      "Accuracy: 0.0\n",
      "\n",
      "- Support Vector Classifier -\n",
      "Accuracy: 0.004524886877828055\n",
      "\n",
      "- Naive Bayes Classifier -\n",
      "Accuracy: 0.004524886877828055\n",
      "\n",
      "--- Using Margin Sampling strategy ---\n",
      "\n",
      "- Random Forest Classifier -\n",
      "Accuracy: 0.004524886877828055\n",
      "\n",
      "- Support Vector Classifier -\n",
      "Accuracy: 0.004524886877828055\n",
      "\n",
      "- Naive Bayes Classifier -\n",
      "Accuracy: 0.004524886877828055\n",
      "\n",
      "--- Using Entropy Sampling strategy ---\n",
      "\n",
      "- Random Forest Classifier -\n",
      "Accuracy: 0.0\n",
      "\n",
      "- Support Vector Classifier -\n",
      "Accuracy: 0.004524886877828055\n",
      "\n",
      "- Naive Bayes Classifier -\n",
      "Accuracy: 0.004524886877828055\n"
     ]
    }
   ],
   "source": [
    "X_train, X_test, y_train, y_test = train_test_split(X, y, test_size=0.5, train_size=0.5, random_state=42, shuffle=True)\n",
    "\n",
    "\n",
    "N_QUERIES = 50\n",
    "\n",
    "query_strategies = {\n",
    "    'Uncertainty Sampling': uncertainty_sampling,\n",
    "    'Margin Sampling': margin_sampling,\n",
    "    'Entropy Sampling': entropy_sampling\n",
    "}\n",
    "\n",
    "for query_strategy_name, query_strategy in query_strategies.items():\n",
    "    print('\\n--- Using {} strategy ---'.format(query_strategy_name))\n",
    " \n",
    "    classifiers = {\n",
    "      'Random Forest Classifier': RandomForestClassifier(random_state=42),\n",
    "      'Support Vector Classifier': SVC(probability=True, random_state=42),\n",
    "      'Naive Bayes Classifier': GaussianNB()\n",
    "    }\n",
    "\n",
    "    for classifier_name, classifier in classifiers.items():\n",
    "        learner = ActiveLearner(\n",
    "            estimator=classifier,\n",
    "            query_strategy=query_strategy,\n",
    "            X_training=X_train, y_training=y_train\n",
    "        )\n",
    "\n",
    "        selected_samples = []\n",
    "    \n",
    "        for i in range(N_QUERIES):\n",
    "            query_idx, query_instance = learner.query(X_train)\n",
    "            selected_samples.append(query_idx[0])\n",
    "            learner.teach(query_instance, y_train[query_idx])\n",
    "\n",
    "        y_pred = learner.predict(X_test)\n",
    "        confusion_matrix = metrics.confusion_matrix(y_test, y_pred).T\n",
    "\n",
    "        #print('\\nEvaluating {}'.format(classifier_name))\n",
    "        #print(metrics.classification_report(y_test, y_pred))\n",
    "        \n",
    "        accuracy = learner.score(X_test, y_test)\n",
    "        print('\\n- {} -'.format(classifier_name))\n",
    "        print('Accuracy: {}'.format(accuracy))\n"
   ]
  },
  {
   "cell_type": "markdown",
   "metadata": {},
   "source": [
    "# Manolis "
   ]
  },
  {
   "cell_type": "code",
   "execution_count": 7,
   "metadata": {
    "colab": {
     "base_uri": "https://localhost:8080/"
    },
    "id": "ekKwyiqSXQpn",
    "outputId": "d032d65b-c7f6-4062-f72f-f57778c3fdb2"
   },
   "outputs": [
    {
     "name": "stdout",
     "output_type": "stream",
     "text": [
      "Total data shape:(442, 10)\n",
      "Training data shape: (45, 10)\n",
      "Training labels shape: (45,)\n",
      "Unlabeled data shape: (397, 10)\n",
      "Testing data shape: (221, 10)\n",
      "Testing labels shape: (221,)\n"
     ]
    }
   ],
   "source": [
    "X_train, X_test, y_train, y_test = train_test_split( X, y, test_size=0.5, random_state=42)\n",
    "\n",
    "X_pool, X_train, y_pool, y_train = train_test_split( X, y, test_size=0.1, random_state=42)\n",
    "\n",
    "print(\"Total data shape:\"+str(X.shape))\n",
    "print(\"Training data shape: \"+str(X_train.shape))\n",
    "print(\"Training labels shape: \"+str(y_train.shape))\n",
    "print(\"Unlabeled data shape: \"+str(X_pool.shape))\n",
    "print(\"Testing data shape: \"+str(X_test.shape))\n",
    "print(\"Testing labels shape: \"+str(y_test.shape))"
   ]
  },
  {
   "cell_type": "markdown",
   "metadata": {
    "id": "aObTMXJyZJPg"
   },
   "source": [
    "# Active learning with entropy sampling"
   ]
  },
  {
   "cell_type": "code",
   "execution_count": 3,
   "metadata": {
    "colab": {
     "base_uri": "https://localhost:8080/"
    },
    "id": "-2I4m3zMXhwf",
    "outputId": "b8c83b9a-bed7-4ce9-f3ba-e7ce5e4b147b"
   },
   "outputs": [
    {
     "name": "stdout",
     "output_type": "stream",
     "text": [
      "Accuracy after query 0:\n",
      "  > With Entropy : 0.2036%\n",
      "  > With Random query : 0.2036%\n",
      "Accuracy after query 50:\n",
      "  > With Entropy : 0.2986%\n",
      "  > With Random query : 0.3032%\n",
      "Accuracy after query 100:\n",
      "  > With Entropy : 0.3937%\n",
      "  > With Random query : 0.3982%\n",
      "Accuracy after query 150:\n",
      "  > With Entropy : 0.4887%\n",
      "  > With Random query : 0.5068%\n",
      "Accuracy after query 200:\n",
      "  > With Entropy : 0.6063%\n",
      "  > With Random query : 0.6063%\n",
      "Accuracy after query 250:\n",
      "  > With Entropy : 0.7195%\n",
      "  > With Random query : 0.7059%\n",
      "Accuracy after query 300:\n",
      "  > With Entropy : 0.8190%\n",
      "  > With Random query : 0.8371%\n",
      "Accuracy after query 350:\n",
      "  > With Entropy : 0.9095%\n",
      "  > With Random query : 0.9186%\n",
      "Accuracy after query 396:\n",
      "  > With Entropy : 1.0000%\n",
      "  > With Random query : 1.0000%\n"
     ]
    }
   ],
   "source": [
    "learner_entropy = ActiveLearner(\n",
    "    estimator=RandomForestClassifier(random_state=42),\n",
    "    query_strategy=entropy_sampling,\n",
    "    X_training=X_train, y_training=y_train\n",
    ")\n",
    "learner_random = ActiveLearner(\n",
    "    estimator=RandomForestClassifier(random_state=42),\n",
    "    X_training=X_train, y_training=y_train\n",
    ")\n",
    "\n",
    "queries = len(X_pool)\n",
    "\n",
    "pool_x = X_pool\n",
    "pool_y = y_pool\n",
    "pool_x_rand = X_pool\n",
    "pool_y_rand = y_pool\n",
    "\n",
    "accuracy = []\n",
    "accuracy_rand = []\n",
    "\n",
    "random.seed = 42\n",
    "\n",
    "for i in range(queries):\n",
    "    index, _ = learner_entropy.query(pool_x)\n",
    "    x = pool_x[index]\n",
    "    y = pool_y[index]\n",
    "    pool_x = np.delete(pool_x,obj=index,axis=0)\n",
    "    pool_y = np.delete(pool_y,obj=index,axis=0)\n",
    "    learner_entropy.teach(X=x, y=y)\n",
    "    acc = learner_entropy.score(X_test, y_test)\n",
    "    accuracy.append(acc)\n",
    "  \n",
    "    if len(pool_x_rand) > 1:\n",
    "        index = random.randint(0,len(pool_x_rand) - 1)\n",
    "    else:\n",
    "        index = 0\n",
    "    x = pool_x_rand[index]\n",
    "    y = pool_y_rand[index]\n",
    "    pool_x_rand = np.delete(pool_x_rand,obj=index,axis=0)\n",
    "    pool_y_rand = np.delete(pool_y_rand,obj=index,axis=0)\n",
    "    learner_random.teach(X=[x], y=[y])\n",
    "    acc_rand = learner_random.score(X_test, y_test)\n",
    "    accuracy_rand.append(acc_rand)\n",
    "\n",
    "    if i%50 == 0:\n",
    "        print(f'Accuracy after query {str(i)}:\\n  > With Entropy : {acc:0.4f}%\\n  > With Random query : {acc_rand:0.4f}%')\n",
    "print(f'Accuracy after query {str(i)}:\\n  > With Entropy : {acc:0.4f}%\\n  > With Random query : {acc_rand:0.4f}%')"
   ]
  },
  {
   "cell_type": "code",
   "execution_count": 4,
   "metadata": {
    "colab": {
     "base_uri": "https://localhost:8080/",
     "height": 472
    },
    "id": "QLldQAY1kHhl",
    "outputId": "38fdb916-7852-44ef-ddcb-879bacaf7872"
   },
   "outputs": [
    {
     "data": {
      "image/png": "[encoded data removed]",
      "text/plain": [
       "<Figure size 640x480 with 1 Axes>"
      ]
     },
     "metadata": {},
     "output_type": "display_data"
    }
   ],
   "source": [
    "plt.title('Accuracy of active learner with entropy sampling')\n",
    "plt.xlabel('Query')\n",
    "plt.ylabel('Accuracy')\n",
    "plt.plot(range(len(accuracy)),accuracy, label='Entropy Sampling')\n",
    "plt.plot(range(len(accuracy_rand)),accuracy_rand, label='Random Sampling')\n",
    "plt.legend()\n",
    "plt.show()"
   ]
  },
  {
   "cell_type": "code",
   "execution_count": null,
   "metadata": {
    "id": "SSfAJ0hIMDzC"
   },
   "outputs": [],
   "source": []
  }
 ],
 "metadata": {
  "colab": {
   "provenance": []
  },
  "kernelspec": {
   "display_name": "Python 3 (ipykernel)",
   "language": "python",
   "name": "python3"
  },
  "language_info": {
   "codemirror_mode": {
    "name": "ipython",
    "version": 3
   },
   "file_extension": ".py",
   "mimetype": "text/x-python",
   "name": "python",
   "nbconvert_exporter": "python",
   "pygments_lexer": "ipython3",
   "version": "3.9.13"
  }
 },
 "nbformat": 4,
 "nbformat_minor": 1
}
