{
  "nbformat": 4,
  "nbformat_minor": 0,
  "metadata": {
    "kernelspec": {
      "display_name": "Python 3",
      "language": "python",
      "name": "python3"
    },
    "language_info": {
      "codemirror_mode": {
        "name": "ipython",
        "version": 3
      },
      "file_extension": ".py",
      "mimetype": "text/x-python",
      "name": "python",
      "nbconvert_exporter": "python",
      "pygments_lexer": "ipython3",
      "version": "3.6.5"
    },
    "colab": {
      "provenance": []
    }
  },
  "cells": [
    {
      "cell_type": "code",
      "source": [
        "import numpy as np\n",
        "import matplotlib.pyplot as plt\n",
        "import pandas as pd\n",
        "from sklearn import svm\n",
        "from sklearn.datasets import make_blobs\n",
        "from sklearn.linear_model import LogisticRegression\n",
        "from sklearn.tree import DecisionTreeClassifier\n",
        "from sklearn.model_selection import train_test_split"
      ],
      "metadata": {
        "id": "mhNTcbZpboCm"
      },
      "execution_count": null,
      "outputs": []
    },
    {
      "cell_type": "code",
      "source": [
        "df = pd.read_csv('carclaims.csv')\n",
        "print(df.info()) "
      ],
      "metadata": {
        "colab": {
          "base_uri": "https://localhost:8080/"
        },
        "id": "JhaOXObvcEhH",
        "outputId": "9f26adb1-2cfa-4d4a-a779-cf40f2234f37"
      },
      "execution_count": null,
      "outputs": [
        {
          "output_type": "stream",
          "name": "stdout",
          "text": [
            "<class 'pandas.core.frame.DataFrame'>\n",
            "RangeIndex: 15420 entries, 0 to 15419\n",
            "Data columns (total 33 columns):\n",
            " #   Column                Non-Null Count  Dtype \n",
            "---  ------                --------------  ----- \n",
            " 0   Month                 15420 non-null  object\n",
            " 1   WeekOfMonth           15420 non-null  int64 \n",
            " 2   DayOfWeek             15420 non-null  object\n",
            " 3   Make                  15420 non-null  object\n",
            " 4   AccidentArea          15420 non-null  object\n",
            " 5   DayOfWeekClaimed      15420 non-null  object\n",
            " 6   MonthClaimed          15420 non-null  object\n",
            " 7   WeekOfMonthClaimed    15420 non-null  int64 \n",
            " 8   Sex                   15420 non-null  object\n",
            " 9   MaritalStatus         15420 non-null  object\n",
            " 10  Age                   15420 non-null  int64 \n",
            " 11  Fault                 15420 non-null  object\n",
            " 12  PolicyType            15420 non-null  object\n",
            " 13  VehicleCategory       15420 non-null  object\n",
            " 14  VehiclePrice          15420 non-null  object\n",
            " 15  PolicyNumber          15420 non-null  int64 \n",
            " 16  RepNumber             15420 non-null  int64 \n",
            " 17  Deductible            15420 non-null  int64 \n",
            " 18  DriverRating          15420 non-null  int64 \n",
            " 19  Days:Policy-Accident  15420 non-null  object\n",
            " 20  Days:Policy-Claim     15420 non-null  object\n",
            " 21  PastNumberOfClaims    15420 non-null  object\n",
            " 22  AgeOfVehicle          15420 non-null  object\n",
            " 23  AgeOfPolicyHolder     15420 non-null  object\n",
            " 24  PoliceReportFiled     15420 non-null  object\n",
            " 25  WitnessPresent        15420 non-null  object\n",
            " 26  AgentType             15420 non-null  object\n",
            " 27  NumberOfSuppliments   15420 non-null  object\n",
            " 28  AddressChange-Claim   15420 non-null  object\n",
            " 29  NumberOfCars          15420 non-null  object\n",
            " 30  Year                  15420 non-null  int64 \n",
            " 31  BasePolicy            15420 non-null  object\n",
            " 32  FraudFound            15420 non-null  object\n",
            "dtypes: int64(8), object(25)\n",
            "memory usage: 3.9+ MB\n",
            "None\n"
          ]
        }
      ]
    },
    {
      "cell_type": "code",
      "metadata": {
        "id": "TG6UbtNEJEKo",
        "colab": {
          "base_uri": "https://localhost:8080/",
          "height": 532
        },
        "outputId": "399a9aa6-c5ed-4b59-9512-d7d99e8c219c"
      },
      "source": [
        "y = df['FraudFound']\n",
        "X = df.drop(['FraudFound'], axis=1)\n",
        "\n",
        "counts = y.value_counts()\n",
        "print(counts)\n",
        "\n",
        "counts.plot(kind='bar')\n",
        "\n",
        "plt.xlabel('Class')\n",
        "plt.ylabel('Count')\n",
        "plt.title('FraudFound')\n",
        "\n",
        "plt.show()"
      ],
      "execution_count": null,
      "outputs": [
        {
          "output_type": "stream",
          "name": "stdout",
          "text": [
            "No     14497\n",
            "Yes      923\n",
            "Name: FraudFound, dtype: int64\n"
          ]
        },
        {
          "output_type": "display_data",
          "data": {
            "text/plain": [
              "<Figure size 640x480 with 1 Axes>"
            ],
            "image/png": "[encoded data removed]"
          },
          "metadata": {}
        }
      ]
    },
    {
      "cell_type": "code",
      "metadata": {
        "id": "Fw4vhjFSThEi"
      },
      "source": [
        "from sklearn.preprocessing import OneHotEncoder, StandardScaler, MinMaxScaler\n",
        "from sklearn.compose import make_column_transformer, make_column_selector\n",
        "\n",
        "one_hot_encoder = make_column_transformer(\n",
        "    (OneHotEncoder(sparse_output=False, handle_unknown='ignore'),\n",
        "     make_column_selector(dtype_include='object')),\n",
        "    remainder='passthrough')\n",
        "\n",
        "X = one_hot_encoder.fit_transform(X)\n",
        "scaler = MinMaxScaler() #StandardScaler()\n",
        "X = scaler.fit_transform(X)"
      ],
      "execution_count": null,
      "outputs": []
    },
    {
      "cell_type": "markdown",
      "metadata": {
        "id": "Y-iu4MwVXmXJ"
      },
      "source": [
        "## Synthetic oversampling "
      ]
    },
    {
      "cell_type": "code",
      "metadata": {
        "id": "nrDrLrZ6JEK8",
        "colab": {
          "base_uri": "https://localhost:8080/"
        },
        "outputId": "83ae934f-528b-44f6-d527-040636ebe433"
      },
      "source": [
        "import warnings\n",
        "warnings.filterwarnings('ignore')\n",
        "\n",
        "from sklearn.svm import LinearSVC\n",
        "from sklearn.ensemble import RandomForestClassifier\n",
        "from sklearn.naive_bayes import GaussianNB\n",
        "from sklearn.model_selection import train_test_split\n",
        "import numpy as np\n",
        "from collections import Counter\n",
        "\n",
        "from imblearn.over_sampling import SMOTE\n",
        "from imblearn.pipeline import make_pipeline\n",
        "from imblearn.metrics import classification_report_imbalanced\n",
        "from imblearn.ensemble import EasyEnsembleClassifier\n",
        "\n",
        "\n",
        "X_train, X_test, y_train, y_test = train_test_split(X, y, test_size=0.3, random_state=0, stratify=y)\n",
        "\n",
        "algs = []\n",
        "svm = LinearSVC(loss='squared_hinge', random_state=0)\n",
        "algs.append([svm, \"Linear SVM\"])\n",
        "rf = RandomForestClassifier(criterion='gini', random_state=0)\n",
        "algs.append([rf, \"Random Forest\"])\n",
        "nb = GaussianNB()\n",
        "algs.append([nb, \"Naive Bayes\"])\n",
        "\n",
        "\n",
        "for c, d in algs:\n",
        "    print(\"\\n\" + d)\n",
        "    # Create a pipeline\n",
        "    pipeline = make_pipeline(c)\n",
        "    pipeline.fit(X_train, y_train)\n",
        "\n",
        "    # Classify and report the results\n",
        "    print(classification_report_imbalanced(y_test, pipeline.predict(X_test)))\n",
        "\n",
        "    # Create a pipeline\n",
        "    pipeline2 = make_pipeline(SMOTE(random_state=0, k_neighbors=5),c)\n",
        "    pipeline2.fit(X_train, y_train)\n",
        "\n",
        "    # Classify and report the results\n",
        "    print(\"with SMOTE\")\n",
        "    print(classification_report_imbalanced(y_test, pipeline2.predict(X_test)))\n"
      ],
      "execution_count": null,
      "outputs": [
        {
          "output_type": "stream",
          "name": "stdout",
          "text": [
            "\n",
            "Linear SVM\n",
            "                   pre       rec       spe        f1       geo       iba       sup\n",
            "\n",
            "         No       0.94      1.00      0.01      0.97      0.08      0.01      4349\n",
            "        Yes       0.67      0.01      1.00      0.01      0.08      0.01       277\n",
            "\n",
            "avg / total       0.92      0.94      0.07      0.91      0.08      0.01      4626\n",
            "\n",
            "with SMOTE\n",
            "                   pre       rec       spe        f1       geo       iba       sup\n",
            "\n",
            "         No       0.99      0.65      0.84      0.78      0.74      0.54      4349\n",
            "        Yes       0.13      0.84      0.65      0.23      0.74      0.56       277\n",
            "\n",
            "avg / total       0.93      0.66      0.83      0.75      0.74      0.54      4626\n",
            "\n",
            "\n",
            "Random Forest\n",
            "                   pre       rec       spe        f1       geo       iba       sup\n",
            "\n",
            "         No       0.94      1.00      0.01      0.97      0.10      0.01      4349\n",
            "        Yes       0.60      0.01      1.00      0.02      0.10      0.01       277\n",
            "\n",
            "avg / total       0.92      0.94      0.07      0.91      0.10      0.01      4626\n",
            "\n",
            "with SMOTE\n",
            "                   pre       rec       spe        f1       geo       iba       sup\n",
            "\n",
            "         No       0.94      1.00      0.01      0.97      0.12      0.02      4349\n",
            "        Yes       0.20      0.01      1.00      0.03      0.12      0.01       277\n",
            "\n",
            "avg / total       0.90      0.94      0.07      0.91      0.12      0.02      4626\n",
            "\n",
            "\n",
            "Naive Bayes\n",
            "                   pre       rec       spe        f1       geo       iba       sup\n",
            "\n",
            "         No       0.96      0.07      0.96      0.13      0.26      0.06      4349\n",
            "        Yes       0.06      0.96      0.07      0.12      0.26      0.07       277\n",
            "\n",
            "avg / total       0.91      0.12      0.90      0.13      0.26      0.06      4626\n",
            "\n",
            "with SMOTE\n",
            "                   pre       rec       spe        f1       geo       iba       sup\n",
            "\n",
            "         No       0.96      0.12      0.91      0.22      0.33      0.10      4349\n",
            "        Yes       0.06      0.91      0.12      0.12      0.33      0.12       277\n",
            "\n",
            "avg / total       0.90      0.17      0.87      0.21      0.33      0.10      4626\n",
            "\n"
          ]
        }
      ]
    },
    {
      "cell_type": "markdown",
      "source": [
        "If we mainly focus on geometric mean (geo) metric, it is evident that SMOTE helps, as the metric is increased. In particular,we observe that the linear SVM model has the highest improvement in the geo metric after applying SMOTE, while the smallest increase is observed in the Random Forest model. \n",
        "\n",
        "Linear SVM is a linear classification model that tries to find a hyperplane that best separates the classes. When the classes are imbalanced, the SVM tries to maximize the margin around the minority class by ignoring some of the majority class samples. This can lead to poor sensitivity (recall) and low geometric mean, as observed in the first table of the results. However, when SMOTE is applied, it increases the number of minority class samples, which improves the geo and the overall performance of the model.\n",
        "\n",
        "Random Forest, is an ensemble method that combines multiple decision trees to make a final prediction. When SMOTE is applied, it increases the number of minority class samples, which helps to balance the classes. However, the improvement in the geo metric may not be as significant as in other models."
      ],
      "metadata": {
        "id": "oIw3OtK1iMOf"
      }
    },
    {
      "cell_type": "markdown",
      "metadata": {
        "id": "O9FqCvw48Y-Y"
      },
      "source": [
        "## Easy ensemble"
      ]
    },
    {
      "cell_type": "markdown",
      "source": [
        "### SVM"
      ],
      "metadata": {
        "id": "fqWg79MXQHic"
      }
    },
    {
      "cell_type": "code",
      "source": [
        "from sklearn.model_selection import cross_validate\n",
        "from sklearn.svm import LinearSVC\n",
        "from imblearn.ensemble import EasyEnsembleClassifier\n",
        "from imblearn.under_sampling import NearMiss\n",
        "from collections import Counter\n",
        "\n",
        "\n",
        "scoring = ['accuracy', 'balanced_accuracy']\n",
        "\n",
        "algs = []\n",
        "lsvc = LinearSVC(loss='squared_hinge', random_state=0)\n",
        "algs.append([lsvc, \"Linear SVM\"])\n",
        "lsvc2 = LinearSVC(loss='squared_hinge', random_state=0, class_weight='balanced')\n",
        "algs.append([lsvc2, \"Linear SVM with balanced class weights\"])\n",
        "ee = EasyEnsembleClassifier(random_state=0)\n",
        "algs.append([ee, \"easy ensemble\"])\n",
        "\n",
        "for c, d in algs:\n",
        "    print(\"\\n\" + d)\n",
        "    scores = cross_validate(c, X, y, scoring=scoring, cv=10, return_train_score=False)\n",
        "    for s in scoring:\n",
        "        print(\"%s: %0.2f (+/- %0.2f)\" % (s, scores[\"test_\" + s].mean(), scores[\"test_\" + s].std()))"
      ],
      "metadata": {
        "colab": {
          "base_uri": "https://localhost:8080/"
        },
        "id": "dKE_2ecDWBDp",
        "outputId": "469b3844-80d2-487f-ef47-a0e962b48312"
      },
      "execution_count": null,
      "outputs": [
        {
          "output_type": "stream",
          "name": "stdout",
          "text": [
            "\n",
            "Linear SVM\n",
            "accuracy: 0.94 (+/- 0.00)\n",
            "balanced_accuracy: 0.50 (+/- 0.00)\n",
            "\n",
            "Linear SVM with balanced class weights\n",
            "accuracy: 0.63 (+/- 0.02)\n",
            "balanced_accuracy: 0.65 (+/- 0.07)\n",
            "\n",
            "easy ensemble\n",
            "accuracy: 0.60 (+/- 0.20)\n",
            "balanced_accuracy: 0.61 (+/- 0.09)\n"
          ]
        }
      ]
    },
    {
      "cell_type": "markdown",
      "source": [
        "In the case of Linear SVM, the balanced accuracy score is 0.50 for the model without balanced class weights, indicating poor performance in handling imbalanced classes. However, the model with balanced class weights shows an improvement in balanced accuracy, with a score of 0.65. The easy ensemble method shows a balanced accuracy score of 0.61, which is slightly lower than the balanced class weights model."
      ],
      "metadata": {
        "id": "FxSG2R2KnfOA"
      }
    },
    {
      "cell_type": "markdown",
      "source": [
        "### Random Forest"
      ],
      "metadata": {
        "id": "5iYuObmDQNpb"
      }
    },
    {
      "cell_type": "code",
      "source": [
        "from sklearn.model_selection import cross_validate\n",
        "from sklearn.ensemble import RandomForestClassifier\n",
        "from imblearn.ensemble import EasyEnsembleClassifier\n",
        "from imblearn.under_sampling import NearMiss\n",
        "from collections import Counter\n",
        "from imblearn.ensemble import BalancedRandomForestClassifier\n",
        "\n",
        "\n",
        "scoring = ['accuracy', 'balanced_accuracy']\n",
        "\n",
        "algs = []\n",
        "rf = RandomForestClassifier(criterion='gini', random_state=0)\n",
        "algs.append([rf, \"Random Forest\"])\n",
        "rf2 = RandomForestClassifier(criterion='gini', random_state=0, class_weight='balanced')\n",
        "algs.append([rf2, \"Random Forest with balanced class weights\"])\n",
        "rf3 = BalancedRandomForestClassifier(criterion='gini', random_state=0)\n",
        "algs.append([rf3, \"Balanced Random Forest Classifier\"])\n",
        "ee = EasyEnsembleClassifier(random_state=0)\n",
        "algs.append([ee, \"easy ensemble\"])\n",
        "\n",
        "for c, d in algs:\n",
        "    print(\"\\n\" + d)\n",
        "    scores = cross_validate(c, X, y, scoring=scoring, cv=10, return_train_score=False)\n",
        "    for s in scoring:\n",
        "        print(\"%s: %0.2f (+/- %0.2f)\" % (s, scores[\"test_\" + s].mean(), scores[\"test_\" + s].std()))        "
      ],
      "metadata": {
        "colab": {
          "base_uri": "https://localhost:8080/"
        },
        "id": "SV2TGqtHQM0S",
        "outputId": "2b6efda2-15be-443e-dac3-c6b5ba0c4fb5"
      },
      "execution_count": null,
      "outputs": [
        {
          "output_type": "stream",
          "name": "stdout",
          "text": [
            "\n",
            "Random Forest\n",
            "accuracy: 0.93 (+/- 0.02)\n",
            "balanced_accuracy: 0.51 (+/- 0.03)\n",
            "\n",
            "Random Forest with balanced class weights\n",
            "accuracy: 0.94 (+/- 0.00)\n",
            "balanced_accuracy: 0.50 (+/- 0.00)\n",
            "\n",
            "Balanced Random Forest Classifier\n",
            "accuracy: 0.64 (+/- 0.03)\n",
            "balanced_accuracy: 0.66 (+/- 0.05)\n",
            "\n",
            "easy ensemble\n",
            "accuracy: 0.60 (+/- 0.20)\n",
            "balanced_accuracy: 0.61 (+/- 0.09)\n"
          ]
        }
      ]
    },
    {
      "cell_type": "markdown",
      "source": [
        "The main difference between RandomForestClassifier with class_weight='balanced' and BalancedRandomForestClassifier lies in how they handle imbalanced datasets.\n",
        "RandomForestClassifier with class_weight='balanced' assigns weights to the classes inversely proportional to their frequency in the training data. This means that the algorithm gives more weight to the minority class and less weight to the majority class. \n",
        "BalancedRandomForestClassifier, on the other hand, uses a different approach to address class imbalance. It performs random under-sampling of the majority class at each bootstrap iteration of the decision tree construction. This means that the algorithm will train each decision tree on a balanced subset of the data, which should result in better performance for both the minority and majority classes.\n",
        "\n",
        "If we focus and compare the balanced accuracies, its seems that Random Forest with balanced class weights does not help improve the balanced_accuracy, but Balanced Random Forest Classifier and easy ensemble do. However easy ensemble does not outperform Balanced Random Forest Classifier."
      ],
      "metadata": {
        "id": "KWbGrkNEmVoQ"
      }
    },
    {
      "cell_type": "markdown",
      "source": [
        "### Naive Bayes"
      ],
      "metadata": {
        "id": "WNS4usGKRBqU"
      }
    },
    {
      "cell_type": "code",
      "source": [
        "from sklearn.model_selection import cross_validate\n",
        "from sklearn.naive_bayes import GaussianNB\n",
        "from sklearn.naive_bayes import ComplementNB\n",
        "from imblearn.ensemble import EasyEnsembleClassifier\n",
        "from imblearn.under_sampling import NearMiss\n",
        "from collections import Counter\n",
        "\n",
        "\n",
        "scoring = ['accuracy', 'balanced_accuracy']\n",
        "\n",
        "algs = []\n",
        "nb = GaussianNB()\n",
        "algs.append([nb, \"Naive Bayes\"])\n",
        "cnb = ComplementNB(force_alpha=True)\n",
        "algs.append([cnb, \"Complement Naive Bayes\"]) # particularly suited for imbalanced data sets\n",
        "ee = EasyEnsembleClassifier(random_state=0)\n",
        "algs.append([ee, \"easy ensemble\"])\n",
        "\n",
        "\n",
        "for c, d in algs:\n",
        "    print(\"\\n\" + d)\n",
        "    scores = cross_validate(c, X, y, scoring=scoring, cv=10, return_train_score=False)\n",
        "    for s in scoring:\n",
        "        print(\"%s: %0.2f (+/- %0.2f)\" % (s, scores[\"test_\" + s].mean(), scores[\"test_\" + s].std()))       "
      ],
      "metadata": {
        "colab": {
          "base_uri": "https://localhost:8080/"
        },
        "id": "K33zwuTDREca",
        "outputId": "45c27645-ad68-4a21-b359-5e82b9e685ee"
      },
      "execution_count": null,
      "outputs": [
        {
          "output_type": "stream",
          "name": "stdout",
          "text": [
            "\n",
            "Naive Bayes\n",
            "accuracy: 0.10 (+/- 0.01)\n",
            "balanced_accuracy: 0.51 (+/- 0.00)\n",
            "\n",
            "Complement Naive Bayes\n",
            "accuracy: 0.62 (+/- 0.02)\n",
            "balanced_accuracy: 0.65 (+/- 0.04)\n",
            "\n",
            "easy ensemble\n",
            "accuracy: 0.60 (+/- 0.20)\n",
            "balanced_accuracy: 0.61 (+/- 0.09)\n"
          ]
        }
      ]
    },
    {
      "cell_type": "markdown",
      "source": [
        "The Complement Naive Bayes (CNB) classifier is an extension of the traditional Naive Bayes (NB) classifier. It is designed to work better with imbalanced datasets, where the majority class dominates the training set.\n",
        "\n",
        "Once again the easy ensemble method can increase the balanced_accuracy. However, using the Complement Naive Bayes could give better results."
      ],
      "metadata": {
        "id": "5SIcalx6nrSH"
      }
    },
    {
      "cell_type": "markdown",
      "source": [
        "Overall, we can see that other models that handle imbalanced datasets tend to perform better compared to the easy ensemble method."
      ],
      "metadata": {
        "id": "aBuUVqY5nOtl"
      }
    },
    {
      "cell_type": "markdown",
      "source": [
        "## Cluster-Based Sampling\n"
      ],
      "metadata": {
        "id": "BEcZN0I7YjbX"
      }
    },
    {
      "cell_type": "code",
      "source": [
        "from imblearn.under_sampling import ClusterCentroids\n",
        "from sklearn.model_selection import cross_validate\n",
        "from sklearn.svm import LinearSVC\n",
        "from sklearn.ensemble import RandomForestClassifier\n",
        "from sklearn.naive_bayes import GaussianNB\n",
        "from sklearn.naive_bayes import ComplementNB\n",
        "from collections import Counter\n",
        "from sklearn.model_selection import train_test_split\n",
        "import numpy as np\n",
        "from collections import Counter\n",
        "from imblearn.pipeline import make_pipeline\n",
        "from imblearn.metrics import classification_report_imbalanced\n",
        "\n",
        "undersampler = ClusterCentroids()\n",
        "\n",
        "\n",
        "X_train, X_test, y_train, y_test = train_test_split(X, y, test_size=0.3, random_state=0, stratify=y)\n",
        "\n",
        "algs = []\n",
        "svm = LinearSVC(loss='squared_hinge', random_state=0)\n",
        "algs.append([svm, \"Linear SVM\"])\n",
        "rf = RandomForestClassifier(criterion='gini', random_state=0)\n",
        "algs.append([rf, \"Random Forest\"])\n",
        "nb = GaussianNB()\n",
        "algs.append([nb, \"Naive Bayes\"])\n",
        "\n",
        "\n",
        "for c, d in algs:\n",
        "    print(\"\\n\" + d)\n",
        "    # Create a pipeline\n",
        "    pipeline = make_pipeline(c)\n",
        "    pipeline.fit(X_train, y_train)\n",
        "\n",
        "    # Classify and report the results\n",
        "    print(classification_report_imbalanced(y_test, pipeline.predict(X_test)))\n",
        "\n",
        "    # Create a pipeline\n",
        "    pipeline = make_pipeline(undersampler,c)\n",
        "    pipeline.fit(X_train, y_train)\n",
        "\n",
        "    # Classify and report the results\n",
        "    print(\"with Cluster Centroids Undersampling\")\n",
        "    print(classification_report_imbalanced(y_test, pipeline.predict(X_test)))\n"
      ],
      "metadata": {
        "colab": {
          "base_uri": "https://localhost:8080/"
        },
        "id": "RfZGaL2UYzrv",
        "outputId": "296ccf3f-c09e-4282-9f32-78ab7956840e"
      },
      "execution_count": null,
      "outputs": [
        {
          "output_type": "stream",
          "name": "stdout",
          "text": [
            "\n",
            "Linear SVM\n",
            "                   pre       rec       spe        f1       geo       iba       sup\n",
            "\n",
            "         No       0.94      1.00      0.01      0.97      0.08      0.01      4349\n",
            "        Yes       0.67      0.01      1.00      0.01      0.08      0.01       277\n",
            "\n",
            "avg / total       0.92      0.94      0.07      0.91      0.08      0.01      4626\n",
            "\n",
            "with Cluster Centroids Undersampling\n",
            "                   pre       rec       spe        f1       geo       iba       sup\n",
            "\n",
            "         No       0.99      0.60      0.92      0.75      0.74      0.53      4349\n",
            "        Yes       0.13      0.92      0.60      0.22      0.74      0.57       277\n",
            "\n",
            "avg / total       0.94      0.62      0.90      0.72      0.74      0.54      4626\n",
            "\n",
            "\n",
            "Random Forest\n",
            "                   pre       rec       spe        f1       geo       iba       sup\n",
            "\n",
            "         No       0.94      1.00      0.01      0.97      0.10      0.01      4349\n",
            "        Yes       0.60      0.01      1.00      0.02      0.10      0.01       277\n",
            "\n",
            "avg / total       0.92      0.94      0.07      0.91      0.10      0.01      4626\n",
            "\n",
            "with Cluster Centroids Undersampling\n",
            "                   pre       rec       spe        f1       geo       iba       sup\n",
            "\n",
            "         No       1.00      0.00      1.00      0.00      0.04      0.00      4349\n",
            "        Yes       0.06      1.00      0.00      0.11      0.04      0.00       277\n",
            "\n",
            "avg / total       0.94      0.06      0.94      0.01      0.04      0.00      4626\n",
            "\n",
            "\n",
            "Naive Bayes\n",
            "                   pre       rec       spe        f1       geo       iba       sup\n",
            "\n",
            "         No       0.96      0.07      0.96      0.13      0.26      0.06      4349\n",
            "        Yes       0.06      0.96      0.07      0.12      0.26      0.07       277\n",
            "\n",
            "avg / total       0.91      0.12      0.90      0.13      0.26      0.06      4626\n",
            "\n",
            "with Cluster Centroids Undersampling\n",
            "                   pre       rec       spe        f1       geo       iba       sup\n",
            "\n",
            "         No       0.99      0.08      0.99      0.15      0.28      0.07      4349\n",
            "        Yes       0.06      0.99      0.08      0.12      0.28      0.09       277\n",
            "\n",
            "avg / total       0.93      0.13      0.93      0.15      0.28      0.07      4626\n",
            "\n"
          ]
        }
      ]
    },
    {
      "cell_type": "markdown",
      "source": [
        "In two out of the three cases (Naive Bayes and Linear SVM), the geometric mean (geo) increases when using Cluster Centroids undersampling compared to not using it. The Cluster Centroids algorithm works by clustering the majority class examples and then generating artificial data points in the clusters' centroids to balance the dataset.\n",
        "\n",
        "When combined with Naive Bayes and Linear SVM, Cluster Centroids can help because these classifiers are sensitive to imbalanced data. By balancing the dataset using Cluster Centroids, these classifiers can achieve better performance because they can learn more representative decision boundaries for both classes.\n",
        "\n",
        "On the other hand, Random Forest is an ensemble learning algorithm that builds multiple decision trees and combines their outputs. Each tree is trained on a random subset of the data, and the final prediction is made by taking the majority vote of the trees. Because of this, Random Forest can handle imbalanced data well and without the need for additional techniques like Cluster Centroids. Therefore, combining Cluster Centroids with Random Forest may not have a significant impact on performance."
      ],
      "metadata": {
        "id": "coSP9WswpUQP"
      }
    }
  ]
}