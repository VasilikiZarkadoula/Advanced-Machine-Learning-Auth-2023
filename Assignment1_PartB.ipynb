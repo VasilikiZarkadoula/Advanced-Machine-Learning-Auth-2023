{
  "nbformat": 4,
  "nbformat_minor": 0,
  "metadata": {
    "kernelspec": {
      "display_name": "Python 3",
      "language": "python",
      "name": "python3"
    },
    "language_info": {
      "codemirror_mode": {
        "name": "ipython",
        "version": 3
      },
      "file_extension": ".py",
      "mimetype": "text/x-python",
      "name": "python",
      "nbconvert_exporter": "python",
      "pygments_lexer": "ipython3",
      "version": "3.6.5"
    },
    "colab": {
      "provenance": [],
      "collapsed_sections": [
        "lWUHSbO-UXGd",
        "Y-iu4MwVXmXJ",
        "fqWg79MXQHic",
        "5iYuObmDQNpb",
        "xNtF1SxH8or7"
      ]
    }
  },
  "cells": [
    {
      "cell_type": "code",
      "source": [
        "import numpy as np\n",
        "import matplotlib.pyplot as plt\n",
        "import pandas as pd\n",
        "from sklearn import svm\n",
        "from sklearn.datasets import make_blobs\n",
        "from sklearn.linear_model import LogisticRegression\n",
        "from sklearn.tree import DecisionTreeClassifier\n",
        "from sklearn.model_selection import train_test_split"
      ],
      "metadata": {
        "id": "mhNTcbZpboCm"
      },
      "execution_count": 40,
      "outputs": []
    },
    {
      "cell_type": "code",
      "source": [
        "df = pd.read_csv('carclaims.csv')\n",
        "print(df.info()) "
      ],
      "metadata": {
        "colab": {
          "base_uri": "https://localhost:8080/"
        },
        "id": "JhaOXObvcEhH",
        "outputId": "afc9ed43-f5ce-4627-8ffd-95677ce10571"
      },
      "execution_count": 41,
      "outputs": [
        {
          "output_type": "stream",
          "name": "stdout",
          "text": [
            "<class 'pandas.core.frame.DataFrame'>\n",
            "RangeIndex: 15420 entries, 0 to 15419\n",
            "Data columns (total 33 columns):\n",
            " #   Column                Non-Null Count  Dtype \n",
            "---  ------                --------------  ----- \n",
            " 0   Month                 15420 non-null  object\n",
            " 1   WeekOfMonth           15420 non-null  int64 \n",
            " 2   DayOfWeek             15420 non-null  object\n",
            " 3   Make                  15420 non-null  object\n",
            " 4   AccidentArea          15420 non-null  object\n",
            " 5   DayOfWeekClaimed      15420 non-null  object\n",
            " 6   MonthClaimed          15420 non-null  object\n",
            " 7   WeekOfMonthClaimed    15420 non-null  int64 \n",
            " 8   Sex                   15420 non-null  object\n",
            " 9   MaritalStatus         15420 non-null  object\n",
            " 10  Age                   15420 non-null  int64 \n",
            " 11  Fault                 15420 non-null  object\n",
            " 12  PolicyType            15420 non-null  object\n",
            " 13  VehicleCategory       15420 non-null  object\n",
            " 14  VehiclePrice          15420 non-null  object\n",
            " 15  PolicyNumber          15420 non-null  int64 \n",
            " 16  RepNumber             15420 non-null  int64 \n",
            " 17  Deductible            15420 non-null  int64 \n",
            " 18  DriverRating          15420 non-null  int64 \n",
            " 19  Days:Policy-Accident  15420 non-null  object\n",
            " 20  Days:Policy-Claim     15420 non-null  object\n",
            " 21  PastNumberOfClaims    15420 non-null  object\n",
            " 22  AgeOfVehicle          15420 non-null  object\n",
            " 23  AgeOfPolicyHolder     15420 non-null  object\n",
            " 24  PoliceReportFiled     15420 non-null  object\n",
            " 25  WitnessPresent        15420 non-null  object\n",
            " 26  AgentType             15420 non-null  object\n",
            " 27  NumberOfSuppliments   15420 non-null  object\n",
            " 28  AddressChange-Claim   15420 non-null  object\n",
            " 29  NumberOfCars          15420 non-null  object\n",
            " 30  Year                  15420 non-null  int64 \n",
            " 31  BasePolicy            15420 non-null  object\n",
            " 32  FraudFound            15420 non-null  object\n",
            "dtypes: int64(8), object(25)\n",
            "memory usage: 3.9+ MB\n",
            "None\n"
          ]
        }
      ]
    },
    {
      "cell_type": "code",
      "metadata": {
        "id": "TG6UbtNEJEKo",
        "colab": {
          "base_uri": "https://localhost:8080/",
          "height": 532
        },
        "outputId": "e59a82a6-043a-4442-a8c7-4a25291aa121"
      },
      "source": [
        "y = df['FraudFound']\n",
        "X = df.drop(['FraudFound'], axis=1)\n",
        "\n",
        "counts = y.value_counts()\n",
        "print(counts)\n",
        "\n",
        "counts.plot(kind='bar')\n",
        "\n",
        "plt.xlabel('Class')\n",
        "plt.ylabel('Count')\n",
        "plt.title('FraudFound')\n",
        "\n",
        "plt.show()"
      ],
      "execution_count": 42,
      "outputs": [
        {
          "output_type": "stream",
          "name": "stdout",
          "text": [
            "No     14497\n",
            "Yes      923\n",
            "Name: FraudFound, dtype: int64\n"
          ]
        },
        {
          "output_type": "display_data",
          "data": {
            "text/plain": [
              "<Figure size 640x480 with 1 Axes>"
            ],
            "image/png": "[encoded data removed]"
          },
          "metadata": {}
        }
      ]
    },
    {
      "cell_type": "code",
      "metadata": {
        "id": "Fw4vhjFSThEi"
      },
      "source": [
        "from sklearn.preprocessing import OneHotEncoder, StandardScaler, MinMaxScaler\n",
        "from sklearn.compose import make_column_transformer, make_column_selector\n",
        "\n",
        "one_hot_encoder = make_column_transformer(\n",
        "    (OneHotEncoder(sparse_output=False, handle_unknown='ignore'),\n",
        "     make_column_selector(dtype_include='object')),\n",
        "    remainder='passthrough')\n",
        "\n",
        "X = one_hot_encoder.fit_transform(X)\n",
        "scaler = MinMaxScaler() #StandardScaler()\n",
        "X = scaler.fit_transform(X)\n"
      ],
      "execution_count": 43,
      "outputs": []
    },
    {
      "cell_type": "markdown",
      "metadata": {
        "id": "lWUHSbO-UXGd"
      },
      "source": [
        "\n",
        "## Train imbalance un/aware models and do imbalance un/aware evaluation "
      ]
    },
    {
      "cell_type": "code",
      "metadata": {
        "id": "g9XBHj-FUKoh",
        "colab": {
          "base_uri": "https://localhost:8080/",
          "height": 1000
        },
        "outputId": "90c18a4b-c741-4a9c-f052-a4c654c7a562"
      },
      "source": [
        "from sklearn.svm import LinearSVC\n",
        "#from sklearn.metrics import plot_roc_curve, plot_precision_recall_curve\n",
        "from sklearn.model_selection import cross_validate, train_test_split\n",
        "from sklearn.metrics import RocCurveDisplay, PrecisionRecallDisplay\n",
        "\n",
        "clf1 = LinearSVC()\n",
        "clf2 = LinearSVC(class_weight=\"balanced\") \n",
        "\n",
        "scoring = ['accuracy', 'balanced_accuracy']\n",
        "\n",
        "scores = cross_validate(clf1, X, y, scoring=scoring, cv=10, return_train_score=False)\n",
        "for s in scoring:\n",
        "    print(\"%s: %.2f (+/- %.2f)\" % (s, scores[\"test_\" + s].mean(), scores[\"test_\" + s].std()))\n",
        "\n",
        "scores = cross_validate(clf2, X, y, scoring=scoring, cv=10, return_train_score=False)\n",
        "for s in scoring:\n",
        "    print(\"%s: %.2f (+/- %.2f)\" % (s, scores[\"test_\" + s].mean(), scores[\"test_\" + s].std()))\n",
        "\n",
        "\n",
        "X_train, X_test, y_train, y_test = train_test_split(X, y, test_size=0.3, random_state=0, stratify=y)\n",
        "clf1.fit(X_train, y_train)\n",
        "clf2.fit(X_train, y_train)\n",
        "RocCurveDisplay.from_estimator(clf1, X_test, y_test)\n",
        "RocCurveDisplay.from_estimator(clf2, X_test, y_test)\n",
        "PrecisionRecallDisplay.from_estimator(clf1, X_test, y_test)\n",
        "PrecisionRecallDisplay.from_estimator(clf2, X_test, y_test)"
      ],
      "execution_count": 22,
      "outputs": [
        {
          "output_type": "stream",
          "name": "stderr",
          "text": [
            "/usr/local/lib/python3.9/dist-packages/sklearn/svm/_base.py:1244: ConvergenceWarning: Liblinear failed to converge, increase the number of iterations.\n",
            "  warnings.warn(\n",
            "/usr/local/lib/python3.9/dist-packages/sklearn/svm/_base.py:1244: ConvergenceWarning: Liblinear failed to converge, increase the number of iterations.\n",
            "  warnings.warn(\n",
            "/usr/local/lib/python3.9/dist-packages/sklearn/svm/_base.py:1244: ConvergenceWarning: Liblinear failed to converge, increase the number of iterations.\n",
            "  warnings.warn(\n",
            "/usr/local/lib/python3.9/dist-packages/sklearn/svm/_base.py:1244: ConvergenceWarning: Liblinear failed to converge, increase the number of iterations.\n",
            "  warnings.warn(\n",
            "/usr/local/lib/python3.9/dist-packages/sklearn/svm/_base.py:1244: ConvergenceWarning: Liblinear failed to converge, increase the number of iterations.\n",
            "  warnings.warn(\n",
            "/usr/local/lib/python3.9/dist-packages/sklearn/svm/_base.py:1244: ConvergenceWarning: Liblinear failed to converge, increase the number of iterations.\n",
            "  warnings.warn(\n",
            "/usr/local/lib/python3.9/dist-packages/sklearn/svm/_base.py:1244: ConvergenceWarning: Liblinear failed to converge, increase the number of iterations.\n",
            "  warnings.warn(\n",
            "/usr/local/lib/python3.9/dist-packages/sklearn/svm/_base.py:1244: ConvergenceWarning: Liblinear failed to converge, increase the number of iterations.\n",
            "  warnings.warn(\n",
            "/usr/local/lib/python3.9/dist-packages/sklearn/svm/_base.py:1244: ConvergenceWarning: Liblinear failed to converge, increase the number of iterations.\n",
            "  warnings.warn(\n",
            "/usr/local/lib/python3.9/dist-packages/sklearn/svm/_base.py:1244: ConvergenceWarning: Liblinear failed to converge, increase the number of iterations.\n",
            "  warnings.warn(\n"
          ]
        },
        {
          "output_type": "stream",
          "name": "stdout",
          "text": [
            "accuracy: 0.94 (+/- 0.00)\n",
            "balanced_accuracy: 0.50 (+/- 0.00)\n"
          ]
        },
        {
          "output_type": "stream",
          "name": "stderr",
          "text": [
            "/usr/local/lib/python3.9/dist-packages/sklearn/svm/_base.py:1244: ConvergenceWarning: Liblinear failed to converge, increase the number of iterations.\n",
            "  warnings.warn(\n",
            "/usr/local/lib/python3.9/dist-packages/sklearn/svm/_base.py:1244: ConvergenceWarning: Liblinear failed to converge, increase the number of iterations.\n",
            "  warnings.warn(\n",
            "/usr/local/lib/python3.9/dist-packages/sklearn/svm/_base.py:1244: ConvergenceWarning: Liblinear failed to converge, increase the number of iterations.\n",
            "  warnings.warn(\n",
            "/usr/local/lib/python3.9/dist-packages/sklearn/svm/_base.py:1244: ConvergenceWarning: Liblinear failed to converge, increase the number of iterations.\n",
            "  warnings.warn(\n",
            "/usr/local/lib/python3.9/dist-packages/sklearn/svm/_base.py:1244: ConvergenceWarning: Liblinear failed to converge, increase the number of iterations.\n",
            "  warnings.warn(\n",
            "/usr/local/lib/python3.9/dist-packages/sklearn/svm/_base.py:1244: ConvergenceWarning: Liblinear failed to converge, increase the number of iterations.\n",
            "  warnings.warn(\n",
            "/usr/local/lib/python3.9/dist-packages/sklearn/svm/_base.py:1244: ConvergenceWarning: Liblinear failed to converge, increase the number of iterations.\n",
            "  warnings.warn(\n",
            "/usr/local/lib/python3.9/dist-packages/sklearn/svm/_base.py:1244: ConvergenceWarning: Liblinear failed to converge, increase the number of iterations.\n",
            "  warnings.warn(\n",
            "/usr/local/lib/python3.9/dist-packages/sklearn/svm/_base.py:1244: ConvergenceWarning: Liblinear failed to converge, increase the number of iterations.\n",
            "  warnings.warn(\n",
            "/usr/local/lib/python3.9/dist-packages/sklearn/svm/_base.py:1244: ConvergenceWarning: Liblinear failed to converge, increase the number of iterations.\n",
            "  warnings.warn(\n"
          ]
        },
        {
          "output_type": "stream",
          "name": "stdout",
          "text": [
            "accuracy: 0.74 (+/- 0.03)\n",
            "balanced_accuracy: 0.57 (+/- 0.06)\n"
          ]
        },
        {
          "output_type": "stream",
          "name": "stderr",
          "text": [
            "/usr/local/lib/python3.9/dist-packages/sklearn/svm/_base.py:1244: ConvergenceWarning: Liblinear failed to converge, increase the number of iterations.\n",
            "  warnings.warn(\n",
            "/usr/local/lib/python3.9/dist-packages/sklearn/svm/_base.py:1244: ConvergenceWarning: Liblinear failed to converge, increase the number of iterations.\n",
            "  warnings.warn(\n"
          ]
        },
        {
          "output_type": "execute_result",
          "data": {
            "text/plain": [
              "<sklearn.metrics._plot.precision_recall_curve.PrecisionRecallDisplay at 0x7f12d6e4a1c0>"
            ]
          },
          "metadata": {},
          "execution_count": 22
        },
        {
          "output_type": "display_data",
          "data": {
            "text/plain": [
              "<Figure size 640x480 with 1 Axes>"
            ],
            "image/png": "[encoded data removed]"
          },
          "metadata": {}
        },
        {
          "output_type": "display_data",
          "data": {
            "text/plain": [
              "<Figure size 640x480 with 1 Axes>"
            ],
            "image/png": "[encoded data removed]"
          },
          "metadata": {}
        },
        {
          "output_type": "display_data",
          "data": {
            "text/plain": [
              "<Figure size 640x480 with 1 Axes>"
            ],
            "image/png": "[encoded data removed]"
          },
          "metadata": {}
        },
        {
          "output_type": "display_data",
          "data": {
            "text/plain": [
              "<Figure size 640x480 with 1 Axes>"
            ],
            "image/png": "[encoded data removed]"
          },
          "metadata": {}
        }
      ]
    },
    {
      "cell_type": "markdown",
      "metadata": {
        "id": "YAYzFAunJEK1"
      },
      "source": [
        "# Sampling based approaches"
      ]
    },
    {
      "cell_type": "markdown",
      "metadata": {
        "id": "Y-iu4MwVXmXJ"
      },
      "source": [
        "## Synthetic oversampling \n",
        "(Yπερδειγματοληψία με κατασκευή συνθετικών δεδομένων)"
      ]
    },
    {
      "cell_type": "code",
      "metadata": {
        "id": "nrDrLrZ6JEK8",
        "colab": {
          "base_uri": "https://localhost:8080/",
          "height": 939
        },
        "outputId": "a36d928b-114e-4a90-ab50-4bda5330e011"
      },
      "source": [
        "import warnings\n",
        "warnings.filterwarnings('ignore')\n",
        "\n",
        "from sklearn.svm import LinearSVC\n",
        "from sklearn.ensemble import RandomForestClassifier\n",
        "from sklearn.naive_bayes import GaussianNB\n",
        "from sklearn.model_selection import train_test_split\n",
        "import numpy as np\n",
        "from collections import Counter\n",
        "\n",
        "from imblearn.over_sampling import SMOTE\n",
        "from imblearn.pipeline import make_pipeline\n",
        "from imblearn.metrics import classification_report_imbalanced\n",
        "from imblearn.ensemble import EasyEnsembleClassifier\n",
        "\n",
        "\n",
        "X_train, X_test, y_train, y_test = train_test_split(X, y, test_size=0.3, random_state=0, stratify=y)\n",
        "\n",
        "algs = []\n",
        "svm = LinearSVC(loss='squared_hinge', random_state=0)\n",
        "algs.append([svm, \"Linear SVM\"])\n",
        "rf = RandomForestClassifier(criterion='gini', random_state=0)\n",
        "algs.append([rf, \"Random Forest\"])\n",
        "nb = GaussianNB()\n",
        "algs.append([nb, \"Naive Bayes\"])\n",
        "\n",
        "\n",
        "for c, d in algs:\n",
        "    print(\"\\n\" + d)\n",
        "    # Create a pipeline\n",
        "    pipeline = make_pipeline(c)\n",
        "    pipeline.fit(X_train, y_train)\n",
        "\n",
        "    # Classify and report the results\n",
        "    print(classification_report_imbalanced(y_test, pipeline.predict(X_test)))\n",
        "\n",
        "    # Create a pipeline\n",
        "    pipeline2 = make_pipeline(SMOTE(random_state=0, k_neighbors=5),c)\n",
        "    pipeline2.fit(X_train, y_train)\n",
        "\n",
        "    # Classify and report the results\n",
        "    print(\"with SMOTE\")\n",
        "    print(classification_report_imbalanced(y_test, pipeline2.predict(X_test)))\n"
      ],
      "execution_count": 8,
      "outputs": [
        {
          "output_type": "stream",
          "name": "stdout",
          "text": [
            "\n",
            "Linear SVM\n",
            "                   pre       rec       spe        f1       geo       iba       sup\n",
            "\n",
            "         No       0.94      1.00      0.01      0.97      0.08      0.01      4349\n",
            "        Yes       0.29      0.01      1.00      0.01      0.08      0.01       277\n",
            "\n",
            "avg / total       0.90      0.94      0.07      0.91      0.08      0.01      4626\n",
            "\n",
            "with SMOTE\n",
            "                   pre       rec       spe        f1       geo       iba       sup\n",
            "\n",
            "         No       0.99      0.64      0.85      0.78      0.74      0.54      4349\n",
            "        Yes       0.13      0.85      0.64      0.23      0.74      0.56       277\n",
            "\n",
            "avg / total       0.93      0.66      0.84      0.75      0.74      0.54      4626\n",
            "\n",
            "\n",
            "Random Forest\n",
            "                   pre       rec       spe        f1       geo       iba       sup\n",
            "\n",
            "         No       0.94      1.00      0.01      0.97      0.10      0.01      4349\n",
            "        Yes       0.60      0.01      1.00      0.02      0.10      0.01       277\n",
            "\n",
            "avg / total       0.92      0.94      0.07      0.91      0.10      0.01      4626\n",
            "\n",
            "with SMOTE\n",
            "                   pre       rec       spe        f1       geo       iba       sup\n",
            "\n",
            "         No       0.94      1.00      0.02      0.97      0.13      0.02      4349\n",
            "        Yes       0.45      0.02      1.00      0.03      0.13      0.02       277\n",
            "\n",
            "avg / total       0.91      0.94      0.08      0.91      0.13      0.02      4626\n",
            "\n",
            "\n",
            "Naive Bayes\n",
            "                   pre       rec       spe        f1       geo       iba       sup\n",
            "\n",
            "         No       0.96      0.04      0.97      0.08      0.21      0.04      4349\n",
            "        Yes       0.06      0.97      0.04      0.11      0.21      0.05       277\n",
            "\n",
            "avg / total       0.91      0.10      0.92      0.09      0.21      0.04      4626\n",
            "\n",
            "with SMOTE\n",
            "                   pre       rec       spe        f1       geo       iba       sup\n",
            "\n",
            "         No       0.95      0.07      0.94      0.14      0.26      0.06      4349\n",
            "        Yes       0.06      0.94      0.07      0.11      0.26      0.08       277\n",
            "\n",
            "avg / total       0.90      0.13      0.89      0.14      0.26      0.06      4626\n",
            "\n"
          ]
        },
        {
          "output_type": "execute_result",
          "data": {
            "text/plain": [
              "'\\n# Create a pipeline\\npipeline = make_pipeline(LinearSVC(loss=\\'squared_hinge\\', random_state=0, class_weight=\\'balanced\\'))\\npipeline.fit(X_train, y_train)\\n\\n# Classify and report the results\\nprint(\"Linear SVM with balanced weights\")\\nprint(classification_report_imbalanced(y_test, pipeline.predict(X_test)))\\n'"
            ],
            "application/vnd.google.colaboratory.intrinsic+json": {
              "type": "string"
            }
          },
          "metadata": {},
          "execution_count": 8
        }
      ]
    },
    {
      "cell_type": "markdown",
      "metadata": {
        "id": "O9FqCvw48Y-Y"
      },
      "source": [
        "## Easy ensemble\n",
        "(είτε συνδυάζει υπέρ και υπόδειγματοληψία είτε χρησιμοποιεί κάποιο σύνολο μοντέλων)"
      ]
    },
    {
      "cell_type": "markdown",
      "source": [
        "### SVM"
      ],
      "metadata": {
        "id": "fqWg79MXQHic"
      }
    },
    {
      "cell_type": "code",
      "source": [
        "from sklearn.model_selection import cross_validate\n",
        "from sklearn.svm import LinearSVC\n",
        "from imblearn.ensemble import EasyEnsembleClassifier\n",
        "from imblearn.under_sampling import NearMiss\n",
        "from collections import Counter\n",
        "\n",
        "\n",
        "scoring = ['accuracy', 'balanced_accuracy']\n",
        "\n",
        "algs = []\n",
        "lsvc = LinearSVC(loss='squared_hinge', random_state=0)\n",
        "algs.append([lsvc, \"Linear SVM\"])\n",
        "lsvc2 = LinearSVC(loss='squared_hinge', random_state=0, class_weight='balanced')\n",
        "algs.append([lsvc2, \"Linear SVM with balanced class weights\"])\n",
        "ee = EasyEnsembleClassifier(random_state=0)\n",
        "algs.append([ee, \"easy ensemble\"])\n",
        "\n",
        "for c, d in algs:\n",
        "    print(\"\\n\" + d)\n",
        "    scores = cross_validate(c, X, y, scoring=scoring, cv=10, return_train_score=False)\n",
        "    for s in scoring:\n",
        "        print(\"%s: %0.2f (+/- %0.2f)\" % (s, scores[\"test_\" + s].mean(), scores[\"test_\" + s].std()))"
      ],
      "metadata": {
        "colab": {
          "base_uri": "https://localhost:8080/"
        },
        "id": "dKE_2ecDWBDp",
        "outputId": "8752f25f-03c7-4b22-a6d8-6197c398a77b"
      },
      "execution_count": null,
      "outputs": [
        {
          "output_type": "stream",
          "name": "stdout",
          "text": [
            "\n",
            "Linear SVM\n",
            "accuracy: 0.94 (+/- 0.00)\n",
            "balanced_accuracy: 0.50 (+/- 0.00)\n",
            "\n",
            "Linear SVM with balanced class weights\n",
            "accuracy: 0.74 (+/- 0.03)\n",
            "balanced_accuracy: 0.56 (+/- 0.06)\n",
            "\n",
            "easy ensemble\n",
            "accuracy: 0.60 (+/- 0.20)\n",
            "balanced_accuracy: 0.61 (+/- 0.09)\n"
          ]
        }
      ]
    },
    {
      "cell_type": "markdown",
      "source": [
        "### Random Forest"
      ],
      "metadata": {
        "id": "5iYuObmDQNpb"
      }
    },
    {
      "cell_type": "code",
      "source": [
        "from sklearn.model_selection import cross_validate\n",
        "from sklearn.ensemble import RandomForestClassifier\n",
        "from imblearn.ensemble import EasyEnsembleClassifier\n",
        "from imblearn.under_sampling import NearMiss\n",
        "from collections import Counter\n",
        "\n",
        "\n",
        "scoring = ['accuracy', 'balanced_accuracy']\n",
        "\n",
        "algs = []\n",
        "rf = RandomForestClassifier(criterion='gini', random_state=0)\n",
        "algs.append([rf, \"Random Forest\"])\n",
        "rf2 = RandomForestClassifier(criterion='gini', random_state=0, class_weight='balanced')\n",
        "algs.append([rf2, \"Random Forest with balanced class weights\"])\n",
        "ee = EasyEnsembleClassifier(random_state=0)\n",
        "algs.append([ee, \"easy ensemble\"])\n",
        "\n",
        "for c, d in algs:\n",
        "    print(\"\\n\" + d)\n",
        "    scores = cross_validate(c, X, y, scoring=scoring, cv=10, return_train_score=False)\n",
        "    for s in scoring:\n",
        "        print(\"%s: %0.2f (+/- %0.2f)\" % (s, scores[\"test_\" + s].mean(), scores[\"test_\" + s].std()))        "
      ],
      "metadata": {
        "colab": {
          "base_uri": "https://localhost:8080/"
        },
        "id": "SV2TGqtHQM0S",
        "outputId": "4ef2f4d2-2d39-413b-ee67-eb87bb328222"
      },
      "execution_count": 9,
      "outputs": [
        {
          "output_type": "stream",
          "name": "stdout",
          "text": [
            "\n",
            "Random Forest\n",
            "accuracy: 0.93 (+/- 0.02)\n",
            "balanced_accuracy: 0.51 (+/- 0.03)\n",
            "\n",
            "Random Forest with balanced class weights\n",
            "accuracy: 0.94 (+/- 0.00)\n",
            "balanced_accuracy: 0.50 (+/- 0.00)\n",
            "\n",
            "easy ensemble\n",
            "accuracy: 0.60 (+/- 0.20)\n",
            "balanced_accuracy: 0.61 (+/- 0.09)\n"
          ]
        }
      ]
    },
    {
      "cell_type": "markdown",
      "source": [
        "### Naive Bayes"
      ],
      "metadata": {
        "id": "WNS4usGKRBqU"
      }
    },
    {
      "cell_type": "code",
      "source": [
        "from sklearn.model_selection import cross_validate\n",
        "from sklearn.naive_bayes import GaussianNB\n",
        "from sklearn.naive_bayes import ComplementNB\n",
        "from imblearn.ensemble import EasyEnsembleClassifier\n",
        "from imblearn.under_sampling import NearMiss\n",
        "from collections import Counter\n",
        "\n",
        "\n",
        "scoring = ['accuracy', 'balanced_accuracy']\n",
        "\n",
        "algs = []\n",
        "nb = GaussianNB()\n",
        "algs.append([nb, \"Naive Bayes\"])\n",
        "cnb = ComplementNB(force_alpha=True)\n",
        "algs.append([cnb, \"Complement Naive Bayes\"]) # particularly suited for imbalanced data sets\n",
        "ee = EasyEnsembleClassifier(random_state=0)\n",
        "algs.append([ee, \"easy ensemble\"])\n",
        "\n",
        "\n",
        "for c, d in algs:\n",
        "    print(\"\\n\" + d)\n",
        "    scores = cross_validate(c, X, y, scoring=scoring, cv=10, return_train_score=False)\n",
        "    for s in scoring:\n",
        "        print(\"%s: %0.2f (+/- %0.2f)\" % (s, scores[\"test_\" + s].mean(), scores[\"test_\" + s].std()))       "
      ],
      "metadata": {
        "colab": {
          "base_uri": "https://localhost:8080/"
        },
        "id": "K33zwuTDREca",
        "outputId": "acddc604-6e9f-4ad6-83cf-fd6b41266fd5"
      },
      "execution_count": 44,
      "outputs": [
        {
          "output_type": "stream",
          "name": "stdout",
          "text": [
            "\n",
            "Naive Bayes\n",
            "accuracy: 0.10 (+/- 0.01)\n",
            "balanced_accuracy: 0.51 (+/- 0.00)\n",
            "\n",
            "Complement Naive Bayes\n",
            "accuracy: 0.62 (+/- 0.02)\n",
            "balanced_accuracy: 0.65 (+/- 0.04)\n",
            "\n",
            "easy ensemble\n",
            "accuracy: 0.60 (+/- 0.20)\n",
            "balanced_accuracy: 0.61 (+/- 0.09)\n"
          ]
        }
      ]
    },
    {
      "cell_type": "markdown",
      "source": [
        "## Cluster-Based Sampling\n",
        "(Yποδειγματοληψίας με ομαδοποίηση)"
      ],
      "metadata": {
        "id": "BEcZN0I7YjbX"
      }
    },
    {
      "cell_type": "code",
      "source": [
        "from imblearn.under_sampling import ClusterCentroids\n",
        "from sklearn.model_selection import cross_validate\n",
        "from sklearn.svm import LinearSVC\n",
        "from sklearn.ensemble import RandomForestClassifier\n",
        "from sklearn.naive_bayes import GaussianNB\n",
        "from sklearn.naive_bayes import ComplementNB\n",
        "from collections import Counter\n",
        "from sklearn.model_selection import train_test_split\n",
        "import numpy as np\n",
        "from collections import Counter\n",
        "from imblearn.pipeline import make_pipeline\n",
        "from imblearn.metrics import classification_report_imbalanced\n",
        "\n",
        "undersampler = ClusterCentroids()\n",
        "\n",
        "\n",
        "X_train, X_test, y_train, y_test = train_test_split(X, y, test_size=0.3, random_state=0, stratify=y)\n",
        "\n",
        "algs = []\n",
        "svm = LinearSVC(loss='squared_hinge', random_state=0)\n",
        "algs.append([svm, \"Linear SVM\"])\n",
        "rf = RandomForestClassifier(criterion='gini', random_state=0)\n",
        "algs.append([rf, \"Random Forest\"])\n",
        "nb = GaussianNB()\n",
        "algs.append([nb, \"Naive Bayes\"])\n",
        "\n",
        "\n",
        "for c, d in algs:\n",
        "    print(\"\\n\" + d)\n",
        "    # Create a pipeline\n",
        "    pipeline = make_pipeline(c)\n",
        "    pipeline.fit(X_train, y_train)\n",
        "\n",
        "    # Classify and report the results\n",
        "    print(classification_report_imbalanced(y_test, pipeline.predict(X_test)))\n",
        "\n",
        "    # Create a pipeline\n",
        "    pipeline = make_pipeline(undersampler,c)\n",
        "    pipeline.fit(X_train, y_train)\n",
        "\n",
        "    # Classify and report the results\n",
        "    print(\"with Cluster Centroids Undersampling\")\n",
        "    print(classification_report_imbalanced(y_test, pipeline.predict(X_test)))\n"
      ],
      "metadata": {
        "colab": {
          "base_uri": "https://localhost:8080/"
        },
        "id": "RfZGaL2UYzrv",
        "outputId": "6e07471a-357d-4038-de3d-7f3e705a351c"
      },
      "execution_count": 21,
      "outputs": [
        {
          "output_type": "stream",
          "name": "stdout",
          "text": [
            "\n",
            "Linear SVM\n"
          ]
        },
        {
          "output_type": "stream",
          "name": "stderr",
          "text": [
            "/usr/local/lib/python3.9/dist-packages/sklearn/svm/_base.py:1244: ConvergenceWarning: Liblinear failed to converge, increase the number of iterations.\n",
            "  warnings.warn(\n",
            "/usr/local/lib/python3.9/dist-packages/sklearn/cluster/_kmeans.py:870: FutureWarning: The default value of `n_init` will change from 10 to 'auto' in 1.4. Set the value of `n_init` explicitly to suppress the warning\n",
            "  warnings.warn(\n"
          ]
        },
        {
          "output_type": "stream",
          "name": "stdout",
          "text": [
            "                   pre       rec       spe        f1       geo       iba       sup\n",
            "\n",
            "         No       0.94      1.00      0.01      0.97      0.08      0.01      4349\n",
            "        Yes       0.29      0.01      1.00      0.01      0.08      0.01       277\n",
            "\n",
            "avg / total       0.90      0.94      0.07      0.91      0.08      0.01      4626\n",
            "\n"
          ]
        },
        {
          "output_type": "stream",
          "name": "stderr",
          "text": [
            "/usr/local/lib/python3.9/dist-packages/sklearn/svm/_base.py:1244: ConvergenceWarning: Liblinear failed to converge, increase the number of iterations.\n",
            "  warnings.warn(\n"
          ]
        },
        {
          "output_type": "stream",
          "name": "stdout",
          "text": [
            "with Cluster Centroids Undersampling\n",
            "                   pre       rec       spe        f1       geo       iba       sup\n",
            "\n",
            "         No       0.99      0.59      0.91      0.74      0.73      0.52      4349\n",
            "        Yes       0.12      0.91      0.59      0.22      0.73      0.56       277\n",
            "\n",
            "avg / total       0.94      0.61      0.89      0.71      0.73      0.52      4626\n",
            "\n",
            "\n",
            "Random Forest\n",
            "                   pre       rec       spe        f1       geo       iba       sup\n",
            "\n",
            "         No       0.94      1.00      0.01      0.97      0.10      0.01      4349\n",
            "        Yes       0.60      0.01      1.00      0.02      0.10      0.01       277\n",
            "\n",
            "avg / total       0.92      0.94      0.07      0.91      0.10      0.01      4626\n",
            "\n"
          ]
        },
        {
          "output_type": "stream",
          "name": "stderr",
          "text": [
            "/usr/local/lib/python3.9/dist-packages/sklearn/cluster/_kmeans.py:870: FutureWarning: The default value of `n_init` will change from 10 to 'auto' in 1.4. Set the value of `n_init` explicitly to suppress the warning\n",
            "  warnings.warn(\n"
          ]
        },
        {
          "output_type": "stream",
          "name": "stdout",
          "text": [
            "with Cluster Centroids Undersampling\n",
            "                   pre       rec       spe        f1       geo       iba       sup\n",
            "\n",
            "         No       1.00      0.13      1.00      0.22      0.36      0.12      4349\n",
            "        Yes       0.07      1.00      0.13      0.13      0.36      0.14       277\n",
            "\n",
            "avg / total       0.94      0.18      0.95      0.22      0.36      0.12      4626\n",
            "\n",
            "\n",
            "Naive Bayes\n",
            "                   pre       rec       spe        f1       geo       iba       sup\n",
            "\n",
            "         No       0.96      0.04      0.97      0.08      0.21      0.04      4349\n",
            "        Yes       0.06      0.97      0.04      0.11      0.21      0.05       277\n",
            "\n",
            "avg / total       0.91      0.10      0.92      0.09      0.21      0.04      4626\n",
            "\n"
          ]
        },
        {
          "output_type": "stream",
          "name": "stderr",
          "text": [
            "/usr/local/lib/python3.9/dist-packages/sklearn/cluster/_kmeans.py:870: FutureWarning: The default value of `n_init` will change from 10 to 'auto' in 1.4. Set the value of `n_init` explicitly to suppress the warning\n",
            "  warnings.warn(\n"
          ]
        },
        {
          "output_type": "stream",
          "name": "stdout",
          "text": [
            "with Cluster Centroids Undersampling\n",
            "                   pre       rec       spe        f1       geo       iba       sup\n",
            "\n",
            "         No       0.94      0.04      0.96      0.08      0.20      0.04      4349\n",
            "        Yes       0.06      0.96      0.04      0.11      0.20      0.05       277\n",
            "\n",
            "avg / total       0.89      0.10      0.90      0.09      0.20      0.04      4626\n",
            "\n"
          ]
        }
      ]
    },
    {
      "cell_type": "markdown",
      "metadata": {
        "id": "xNtF1SxH8or7"
      },
      "source": [
        "## NearMiss"
      ]
    },
    {
      "cell_type": "code",
      "metadata": {
        "id": "YqPeCZVfJEK6",
        "colab": {
          "base_uri": "https://localhost:8080/"
        },
        "outputId": "8e409b55-7099-4acd-a2ed-c8b96d71d043"
      },
      "source": [
        "from sklearn.svm import LinearSVC\n",
        "from sklearn.model_selection import train_test_split\n",
        "import numpy as np\n",
        "from collections import Counter\n",
        "\n",
        "from imblearn.under_sampling import NearMiss\n",
        "from imblearn.pipeline import make_pipeline\n",
        "from imblearn.metrics import classification_report_imbalanced # focus on geo\n",
        "from imblearn.ensemble import EasyEnsembleClassifier\n",
        "\n",
        "X_train, X_test, y_train, y_test = train_test_split(X, y, test_size=0.3, random_state=0, stratify=y)\n",
        "\n",
        "# Create a pipeline\n",
        "pipeline = make_pipeline(LinearSVC(loss='squared_hinge', random_state=0))\n",
        "pipeline.fit(X_train, y_train)\n",
        "\n",
        "# Classify and report the results\n",
        "print(\"Linear SVM\")\n",
        "print(classification_report_imbalanced(y_test, pipeline.predict(X_test)))\n",
        "\n",
        "# Create a pipeline\n",
        "pipeline = make_pipeline(LinearSVC(loss='squared_hinge', random_state=0, class_weight='balanced'))\n",
        "pipeline.fit(X_train, y_train)\n",
        "\n",
        "# Classify and report the results\n",
        "print(\"Linear SVM with balanced class weights\")\n",
        "print(classification_report_imbalanced(y_test, pipeline.predict(X_test)))\n",
        "\n",
        "# Create a pipeline\n",
        "pipeline = make_pipeline(NearMiss(version=1),\n",
        "                         LinearSVC(loss='squared_hinge', random_state=0))\n",
        "pipeline.fit(X_train, y_train)\n",
        "\n",
        "# Classify and report the results\n",
        "print(\"Linear SVM with near miss 1\")\n",
        "print(classification_report_imbalanced(y_test, pipeline.predict(X_test)))\n",
        "\n",
        "# Create a pipeline\n",
        "pipeline = make_pipeline(NearMiss(version=2),\n",
        "                        LinearSVC(loss='squared_hinge', random_state=0))\n",
        "pipeline.fit(X_train, y_train)\n",
        "\n",
        "# Classify and report the results\n",
        "print(\"Linear SVM with near miss 2\")\n",
        "print(classification_report_imbalanced(y_test, pipeline.predict(X_test)))\n",
        "\n",
        "# Create a pipeline\n",
        "print(\"Linear SVM with near miss 3\") # See issue in GitHub\n",
        "pipeline = make_pipeline(NearMiss(version=3, n_neighbors_ver3=3),\n",
        "                         LinearSVC(loss='squared_hinge', random_state=0))\n",
        "pipeline.fit(X_train, y_train)\n",
        "\n",
        "# Classify and report the results\n",
        "print(classification_report_imbalanced(y_test, pipeline.predict(X_test)))\n"
      ],
      "execution_count": null,
      "outputs": [
        {
          "output_type": "stream",
          "name": "stderr",
          "text": [
            "/usr/local/lib/python3.9/dist-packages/sklearn/svm/_base.py:1244: ConvergenceWarning: Liblinear failed to converge, increase the number of iterations.\n",
            "  warnings.warn(\n"
          ]
        },
        {
          "output_type": "stream",
          "name": "stdout",
          "text": [
            "Linear SVM\n",
            "                   pre       rec       spe        f1       geo       iba       sup\n",
            "\n",
            "         No       0.94      1.00      0.01      0.97      0.08      0.01      4349\n",
            "        Yes       0.29      0.01      1.00      0.01      0.08      0.01       277\n",
            "\n",
            "avg / total       0.90      0.94      0.07      0.91      0.08      0.01      4626\n",
            "\n"
          ]
        },
        {
          "output_type": "stream",
          "name": "stderr",
          "text": [
            "/usr/local/lib/python3.9/dist-packages/sklearn/svm/_base.py:1244: ConvergenceWarning: Liblinear failed to converge, increase the number of iterations.\n",
            "  warnings.warn(\n"
          ]
        },
        {
          "output_type": "stream",
          "name": "stdout",
          "text": [
            "Linear SVM with balanced class weights\n",
            "                   pre       rec       spe        f1       geo       iba       sup\n",
            "\n",
            "         No       0.97      0.76      0.67      0.86      0.71      0.52      4349\n",
            "        Yes       0.15      0.67      0.76      0.25      0.71      0.51       277\n",
            "\n",
            "avg / total       0.92      0.76      0.67      0.82      0.71      0.51      4626\n",
            "\n"
          ]
        },
        {
          "output_type": "stream",
          "name": "stderr",
          "text": [
            "/usr/local/lib/python3.9/dist-packages/sklearn/svm/_base.py:1244: ConvergenceWarning: Liblinear failed to converge, increase the number of iterations.\n",
            "  warnings.warn(\n"
          ]
        },
        {
          "output_type": "stream",
          "name": "stdout",
          "text": [
            "Linear SVM with near miss 1\n",
            "                   pre       rec       spe        f1       geo       iba       sup\n",
            "\n",
            "         No       0.97      0.49      0.74      0.65      0.60      0.35      4349\n",
            "        Yes       0.08      0.74      0.49      0.15      0.60      0.37       277\n",
            "\n",
            "avg / total       0.91      0.50      0.72      0.62      0.60      0.35      4626\n",
            "\n"
          ]
        },
        {
          "output_type": "stream",
          "name": "stderr",
          "text": [
            "/usr/local/lib/python3.9/dist-packages/sklearn/svm/_base.py:1244: ConvergenceWarning: Liblinear failed to converge, increase the number of iterations.\n",
            "  warnings.warn(\n"
          ]
        },
        {
          "output_type": "stream",
          "name": "stdout",
          "text": [
            "Linear SVM with near miss 2\n",
            "                   pre       rec       spe        f1       geo       iba       sup\n",
            "\n",
            "         No       0.97      0.29      0.84      0.45      0.50      0.23      4349\n",
            "        Yes       0.07      0.84      0.29      0.13      0.50      0.26       277\n",
            "\n",
            "avg / total       0.91      0.32      0.81      0.43      0.50      0.23      4626\n",
            "\n",
            "Linear SVM with near miss 3\n",
            "                   pre       rec       spe        f1       geo       iba       sup\n",
            "\n",
            "         No       0.98      0.62      0.79      0.76      0.70      0.48      4349\n",
            "        Yes       0.12      0.79      0.62      0.20      0.70      0.49       277\n",
            "\n",
            "avg / total       0.93      0.63      0.78      0.72      0.70      0.48      4626\n",
            "\n"
          ]
        },
        {
          "output_type": "stream",
          "name": "stderr",
          "text": [
            "/usr/local/lib/python3.9/dist-packages/sklearn/svm/_base.py:1244: ConvergenceWarning: Liblinear failed to converge, increase the number of iterations.\n",
            "  warnings.warn(\n"
          ]
        }
      ]
    }
  ]
}