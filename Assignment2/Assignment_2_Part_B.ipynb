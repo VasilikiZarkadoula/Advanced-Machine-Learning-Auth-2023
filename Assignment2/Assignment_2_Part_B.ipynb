{
 "cells": [
  {
   "cell_type": "markdown",
   "id": "9e839894",
   "metadata": {},
   "source": [
    "## Import Libraries"
   ]
  },
  {
   "cell_type": "code",
   "execution_count": 1,
   "id": "3163654a",
   "metadata": {},
   "outputs": [],
   "source": [
    "import numpy as np\n",
    "from sklearn.feature_extraction.text import TfidfVectorizer\n",
    "from sklearn.cluster import KMeans\n",
    "import matplotlib.pyplot as plt\n",
    "from kneed import KneeLocator\n",
    "from sklearn.preprocessing import MaxAbsScaler\n",
    "from sklearn.metrics import silhouette_samples, silhouette_score\n",
    "import pandas as pd\n",
    "from sklearn.naive_bayes import GaussianNB\n",
    "from sklearn.linear_model import LogisticRegression\n",
    "from sklearn.svm import LinearSVC\n",
    "from sklearn.neighbors import KNeighborsClassifier\n",
    "from sklearn.ensemble import RandomForestClassifier\n",
    "from sklearn.metrics import classification_report\n",
    "from sklearn.metrics import zero_one_loss\n",
    "from sklearn.ensemble import GradientBoostingClassifier\n",
    "from collections import Counter\n",
    "from sklearn.model_selection import GridSearchCV"
   ]
  },
  {
   "cell_type": "markdown",
   "id": "093e5d85",
   "metadata": {},
   "source": [
    "## Define files"
   ]
  },
  {
   "cell_type": "code",
   "execution_count": 2,
   "id": "7cda036c",
   "metadata": {},
   "outputs": [],
   "source": [
    "tr_file = 'Data/train-data.dat'\n",
    "tr_lbl_file = 'Data/train-label.dat'\n",
    "t_file = 'Data/test-data.dat'\n",
    "t_lbl_file = 'Data/test-label.dat'\n",
    "labels_file = 'Data/labels.txt'\n",
    "vocab_file = 'Data/vocabs.txt'"
   ]
  },
  {
   "cell_type": "markdown",
   "id": "4425eb4a",
   "metadata": {},
   "source": [
    "## Functions to use"
   ]
  },
  {
   "cell_type": "code",
   "execution_count": 3,
   "id": "8c65ea9c",
   "metadata": {},
   "outputs": [],
   "source": [
    "def read_data_per_sentence(txt_file, data_file):\n",
    "    \n",
    "    dictionary = {}\n",
    "    data = []\n",
    "    labels = []\n",
    "    \n",
    "    with open(txt_file, 'r') as txtfile:\n",
    "        lines = txtfile.read().splitlines()\n",
    "        for line in lines:\n",
    "            # splits the line into two values, the one before the comma (token) and the one after the comma (indx)           \n",
    "            token, indx = line.split(', ')\n",
    "            # create a dictionary of the form {indx: token}\n",
    "            dictionary[int(indx)] = token\n",
    "    \n",
    "    with open(data_file, 'r') as txtfile:\n",
    "        lines = txtfile.read().splitlines()\n",
    "        for line in lines:\n",
    "            line_data = line.split(' ')\n",
    "            # takes the first element of line_data by removing <> and taking only the element inside the brackets \n",
    "            # e.g. <215> results in 215 because 2,1,5 are the line_data[0][1], line_data[0][2], and line_data[0][3] respectively\n",
    "            num_doc_sentences = int(line_data[0][1:-1])  \n",
    "            doc_index = 1\n",
    "            doc_sentences = []  # Store sentences of the document\n",
    "            \n",
    "            # Loop through the sentences of the document\n",
    "            for i in range(num_doc_sentences):\n",
    "                # takes the second element of line_data by removing <> and taking only the element inside the brackets\n",
    "                num_sentence_tokens = int(line_data[doc_index][1:-1])\n",
    "                doc_index += 1\n",
    "                sentence = []\n",
    "                \n",
    "                for j in range(doc_index, num_sentence_tokens + doc_index):\n",
    "                    # Take the indexes of the tokens of the sentence and find the corresponding words from the vocabulary\n",
    "                    sentence.append(dictionary[int(line_data[j])])\n",
    "                \n",
    "                doc_index += num_sentence_tokens\n",
    "                data.append(' '.join(sentence))\n",
    "            \n",
    "\n",
    "    return dictionary, data\n",
    "\n",
    "def multilabel_to_binary(labels, most_frequent_class):\n",
    "\n",
    "    binary_labels = np.zeros(labels.shape[0], dtype=int)\n",
    "    binary_labels[labels[:, most_frequent_class] == 1] = 1\n",
    "\n",
    "    return binary_labels\n",
    "\n",
    "\n",
    "def number_of_clusters(input_data):\n",
    "    sse = {}\n",
    "    \n",
    "    for k in range(3, 21):\n",
    "        kmeans = KMeans(n_clusters=k, random_state=42)\n",
    "        kmeans.fit(input_data)\n",
    "        sse[k] = kmeans.inertia_\n",
    "        \n",
    "    # Plot the sse values\n",
    "    plt.plot(range(3, 21), list(sse.values()), marker='o')\n",
    "    plt.title('Elbow Method')\n",
    "    plt.xlabel('Number of Clusters')\n",
    "    plt.ylabel('WCSS')\n",
    "    plt.show()    \n",
    "    \n",
    "    kn = KneeLocator(x=list(sse.keys()), \n",
    "                 y=list(sse.values()), \n",
    "                 curve='convex', \n",
    "                 direction='decreasing')\n",
    "    k = kn.knee \n",
    "    return k\n",
    "\n",
    "\n",
    "def sentence_cluster(data,labels):\n",
    "    cluster_sentences = {}\n",
    "    \n",
    "    # Iterate over each sentence and its corresponding cluster label\n",
    "    for sentence, cluster_label in zip(data, labels):\n",
    "        cluster_sentences[sentence] = cluster_label\n",
    "        \n",
    "    return cluster_sentences  \n",
    "\n",
    "\n",
    "def read_data_per_doc(vocab, data_file, labels_file, cluster_sentences=None):\n",
    "    data = []\n",
    "    assigned_data = []\n",
    "    labels = []\n",
    "    \n",
    "    with open(data_file, 'r') as txtfile:\n",
    "        lines = txtfile.read().splitlines()\n",
    "        for line in lines:\n",
    "            line_data = line.split(' ')\n",
    "            num_doc_sentences = int(line_data[0][1:-1])  \n",
    "            doc_index = 1\n",
    "            doc = ''\n",
    "            sent_in_doc = ''\n",
    "            cluster = []\n",
    "            # loop through the sentences of the document\n",
    "            for i in range(num_doc_sentences):\n",
    "                # takes the second element of line_data by removing <> and taking only the element inside the brackets\n",
    "                num_sentence_tokens = int(line_data[doc_index][1:-1])           \n",
    "                doc_index += 1\n",
    "                sent_in_doc = ''\n",
    "                for i in range(doc_index, num_sentence_tokens + doc_index):\n",
    "                    sent_in_doc += vocab[int(line_data[i])] + ' '\n",
    "                    doc += vocab[int(line_data[i])] + ' '\n",
    "                doc_index += num_sentence_tokens\n",
    "                if cluster_sentences is not None:\n",
    "                    cluster.append(cluster_sentences[sent_in_doc.rstrip()])\n",
    "            data.append(doc)\n",
    "            assigned_data.append(cluster)\n",
    "            \n",
    "    with open(labels_file, 'r') as txtfile:\n",
    "        lines = txtfile.read().splitlines()\n",
    "        for line in lines:\n",
    "            doc_labels = [int(output) for output in line.split(' ')]\n",
    "            labels.append(doc_labels)            \n",
    "            \n",
    "    return data, assigned_data, np.int8(labels)\n",
    "\n",
    "\n",
    "def docs_per_cluster(num_clusters, data):\n",
    "\n",
    "    # Determine the total number of columns\n",
    "    num_columns = num_clusters\n",
    "    \n",
    "    # Create an empty DataFrame with the appropriate number of columns\n",
    "    column_names = [f'cluster_{i}' for i in range(num_columns)] \n",
    "    df = pd.DataFrame(columns=column_names)\n",
    "    \n",
    "    # Iterate over the documents and populate the DataFrame\n",
    "    for doc in data:\n",
    "        row = [0] * num_columns  # Initialize a row with all zeros\n",
    "        for group in doc:\n",
    "            row[group] += 1  # Increment the count for the corresponding group\n",
    "        df.loc[len(df)] = row  # Append the row to the DataFrame\n",
    "        \n",
    "    return df\n",
    "\n",
    "def train_binary_clf(x_train, y_train, x_test, y_test):\n",
    "    classifiers = {\n",
    "        'Gaussian Naive Bayes Classifier': GaussianNB(),\n",
    "        'Logistic Regression Classifier': LogisticRegression(random_state=42),\n",
    "        'Support Vector Machine Classifier': LinearSVC(random_state=42),\n",
    "        'K-nearest Neighbors Classifier': KNeighborsClassifier(n_neighbors=5),\n",
    "        'Random Forest Classifier': RandomForestClassifier(n_estimators=100, random_state=42),\n",
    "        'Gradient Boosting Classifier': GradientBoostingClassifier(random_state=42)\n",
    "    }\n",
    "    \n",
    "    for classifier_name, clf in classifiers.items():\n",
    "        clf.fit(x_train, y_train)\n",
    "        pred_labels = clf.predict(x_test)\n",
    "        print('\\nEvaluating {}'.format(classifier_name))\n",
    "        print(classification_report(y_test, pred_labels, zero_division='warn'))\n",
    "        print('Subset accuracy = {}'.format((1 - zero_one_loss(test_binary_labels, pred_labels))))"
   ]
  },
  {
   "cell_type": "markdown",
   "id": "b39186fa",
   "metadata": {},
   "source": [
    "# First Approach "
   ]
  },
  {
   "cell_type": "markdown",
   "id": "40139c5c",
   "metadata": {},
   "source": [
    "## Read data from files - Sentence level"
   ]
  },
  {
   "cell_type": "code",
   "execution_count": 4,
   "id": "53a2b6ad",
   "metadata": {},
   "outputs": [],
   "source": [
    "vocab, train_sent = read_data_per_sentence(vocab_file, tr_file)\n",
    "_, test_sent = read_data_per_sentence(vocab_file, t_file)"
   ]
  },
  {
   "cell_type": "code",
   "execution_count": 5,
   "id": "7000ca96",
   "metadata": {},
   "outputs": [
    {
     "name": "stdout",
     "output_type": "stream",
     "text": [
      "\n",
      "First 3 train sentences\n",
      "\n",
      "0:\trubi rail helper demo more info auto complet\n",
      "1:\tsee new helper action\n",
      "2:\tnull length substr locat\n",
      "\n",
      "Extracted 149925 sentences\n"
     ]
    }
   ],
   "source": [
    "print('\\nFirst 3 train sentences\\n')\n",
    "for i in range(3):\n",
    "    print('{}:\\t{}'.format(i, train_sent[i]))\n",
    "print('\\nExtracted {} sentences'.format(len(train_sent)))"
   ]
  },
  {
   "cell_type": "code",
   "execution_count": 6,
   "id": "3f180b2b",
   "metadata": {},
   "outputs": [
    {
     "name": "stdout",
     "output_type": "stream",
     "text": [
      "\n",
      "Extracted 73363 sentences\n"
     ]
    }
   ],
   "source": [
    "print('\\nExtracted {} sentences'.format(len(test_sent)))"
   ]
  },
  {
   "cell_type": "markdown",
   "id": "7da85070",
   "metadata": {},
   "source": [
    "## Turn sentences into vectors"
   ]
  },
  {
   "cell_type": "code",
   "execution_count": 7,
   "id": "f664c2ef",
   "metadata": {},
   "outputs": [
    {
     "data": {
      "text/plain": [
       "((149925, 8520), (73363, 8520))"
      ]
     },
     "execution_count": 7,
     "metadata": {},
     "output_type": "execute_result"
    }
   ],
   "source": [
    "tfidf_vectorizer = TfidfVectorizer()\n",
    "train_inputs = tfidf_vectorizer.fit_transform(train_sent)\n",
    "test_inputs = tfidf_vectorizer.transform(test_sent)\n",
    "\n",
    "train_inputs.shape, test_inputs.shape"
   ]
  },
  {
   "cell_type": "markdown",
   "id": "78df5ba8",
   "metadata": {},
   "source": [
    "## Cluster training sentences - kmeans"
   ]
  },
  {
   "cell_type": "code",
   "execution_count": 8,
   "id": "e5e90fe7",
   "metadata": {},
   "outputs": [
    {
     "name": "stderr",
     "output_type": "stream",
     "text": [
      "C:\\Users\\30698\\anaconda3\\lib\\site-packages\\sklearn\\cluster\\_kmeans.py:870: FutureWarning: The default value of `n_init` will change from 10 to 'auto' in 1.4. Set the value of `n_init` explicitly to suppress the warning\n",
      "  warnings.warn(\n"
     ]
    },
    {
     "data": {
      "image/png": "[encoded data removed]",
      "text/plain": [
       "<Figure size 640x480 with 1 Axes>"
      ]
     },
     "metadata": {},
     "output_type": "display_data"
    }
   ],
   "source": [
    "k = number_of_clusters(train_inputs)\n",
    "kmeans = KMeans(n_clusters=k, random_state=42)\n",
    "train_clusters = kmeans.fit(train_inputs)\n",
    "test_clusters = kmeans.predict(test_inputs)\n",
    "cluster_labels=kmeans.labels_"
   ]
  },
  {
   "cell_type": "code",
   "execution_count": 9,
   "id": "e58bfab5",
   "metadata": {},
   "outputs": [
    {
     "name": "stdout",
     "output_type": "stream",
     "text": [
      "Cluster 6: 5006 sentences\n",
      "Cluster 12: 4037 sentences\n",
      "Cluster 0: 106234 sentences\n",
      "Cluster 10: 4499 sentences\n",
      "Cluster 9: 3555 sentences\n",
      "Cluster 7: 8569 sentences\n",
      "Cluster 4: 1800 sentences\n",
      "Cluster 8: 3940 sentences\n",
      "Cluster 1: 2526 sentences\n",
      "Cluster 5: 3876 sentences\n",
      "Cluster 2: 1943 sentences\n",
      "Cluster 3: 730 sentences\n",
      "Cluster 11: 3210 sentences\n"
     ]
    }
   ],
   "source": [
    "cluster_counts = Counter(cluster_labels)\n",
    "for cluster, count in cluster_counts.items():\n",
    "    print(f\"Cluster {cluster}: {count} sentences\")"
   ]
  },
  {
   "cell_type": "code",
   "execution_count": 10,
   "id": "a45a2202",
   "metadata": {},
   "outputs": [
    {
     "name": "stdout",
     "output_type": "stream",
     "text": [
      "Cluster 11: 1571 sentences\n",
      "Cluster 7: 4208 sentences\n",
      "Cluster 0: 51825 sentences\n",
      "Cluster 2: 999 sentences\n",
      "Cluster 10: 2198 sentences\n",
      "Cluster 1: 1135 sentences\n",
      "Cluster 6: 2471 sentences\n",
      "Cluster 8: 2000 sentences\n",
      "Cluster 5: 2117 sentences\n",
      "Cluster 9: 1668 sentences\n",
      "Cluster 4: 928 sentences\n",
      "Cluster 12: 1937 sentences\n",
      "Cluster 3: 306 sentences\n"
     ]
    }
   ],
   "source": [
    "test_cluster_counts = Counter(test_clusters)\n",
    "for cluster, count in test_cluster_counts.items():\n",
    "    print(f\"Cluster {cluster}: {count} sentences\")    "
   ]
  },
  {
   "cell_type": "markdown",
   "id": "a54864a3",
   "metadata": {},
   "source": [
    "## Create a dictionary to store the sentences and their cluster"
   ]
  },
  {
   "cell_type": "code",
   "execution_count": 11,
   "id": "9a6adce3",
   "metadata": {},
   "outputs": [],
   "source": [
    "cluster_tr_sentences = sentence_cluster(train_sent, cluster_labels)"
   ]
  },
  {
   "cell_type": "code",
   "execution_count": 12,
   "id": "841dfd4b",
   "metadata": {},
   "outputs": [
    {
     "name": "stdout",
     "output_type": "stream",
     "text": [
      "\n",
      "First 10 train sentences and their cluster\n",
      "\n",
      "rubi rail helper demo more info auto complet 6\n",
      "see new helper action 12\n",
      "null length substr locat 0\n",
      "exec messag messag pleas edit remov follow word content 0\n",
      "roll stone com news song previou next page 0\n",
      "good vibrat beach boy 0\n",
      "smell teen spirit nirvana 0\n",
      "want hold hand beatl 0\n",
      "hound dog elvi 0\n",
      "god know beach boy 0\n"
     ]
    }
   ],
   "source": [
    "print('\\nFirst 10 train sentences and their cluster\\n')\n",
    "count = 0\n",
    "for sent, cl in cluster_tr_sentences.items():\n",
    "    print(sent, cl)\n",
    "    count += 1\n",
    "    if count == 10:\n",
    "        break"
   ]
  },
  {
   "cell_type": "code",
   "execution_count": 13,
   "id": "c8645a6d",
   "metadata": {},
   "outputs": [],
   "source": [
    "cluster_t_sentences = sentence_cluster(test_sent, test_clusters)"
   ]
  },
  {
   "cell_type": "code",
   "execution_count": 14,
   "id": "7f4fb056",
   "metadata": {},
   "outputs": [
    {
     "name": "stdout",
     "output_type": "stream",
     "text": [
      "\n",
      "First 10 test sentences and their cluster\n",
      "\n",
      "here ad comment motiv behind convent 11\n",
      "apolog length realli use stuff 7\n",
      "base previou standard clear few area confus 0\n",
      "rule name don use acronym 2\n",
      "exampl gener don creat doubl see special section below 0\n",
      "don make class 0\n",
      "find out someth similar alreadi exist first 0\n",
      "one sub optim way better five perfect way 10\n",
      "fewer class better don gener earli 0\n",
      "code easier read call well known function local function 0\n"
     ]
    }
   ],
   "source": [
    "print('\\nFirst 10 test sentences and their cluster\\n')\n",
    "count = 0\n",
    "for sent, cl in cluster_t_sentences.items():\n",
    "    print(sent, cl)\n",
    "    count += 1\n",
    "    if count == 10:\n",
    "        break"
   ]
  },
  {
   "cell_type": "markdown",
   "id": "ce607f7a",
   "metadata": {},
   "source": [
    "## Read data from files - Document level\n",
    "### Represent document as a vector of clusters"
   ]
  },
  {
   "cell_type": "code",
   "execution_count": 15,
   "id": "0e3a4fa4",
   "metadata": {},
   "outputs": [],
   "source": [
    "train_doc, train_doc_clustered, train_labels = read_data_per_doc(vocab, tr_file,tr_lbl_file, cluster_tr_sentences)\n",
    "test_doc, test_doc_clustered, test_labels = read_data_per_doc(vocab, t_file,t_lbl_file, cluster_t_sentences)"
   ]
  },
  {
   "cell_type": "code",
   "execution_count": 16,
   "id": "80ab6bf7",
   "metadata": {},
   "outputs": [
    {
     "name": "stdout",
     "output_type": "stream",
     "text": [
      "\n",
      "First 5 train documents\n",
      "\n",
      "0:\trubi rail helper demo more info auto complet see new helper action \n",
      "1:\tnull length substr locat exec messag messag pleas edit remov follow word content roll stone com news song previou next page good vibrat beach boy smell teen spirit nirvana want hold hand beatl hound dog elvi god know beach boy walk line johnni cash heaven led zeppelin sympathi devil roll stone river deep mountain high turner woman cri bob day buddi holli georgia mind ray charl heartbreak hotel elvi bridg over troubl water simon track tear robinson miracl messag flash five man love woman long tall salli littl richard whole jerri lee lewi california girl beach boy brand new bag jame brown whole love led zeppelin strawberri field forev beatl mysteri train elvi feel good jame brown \n",
      "2:\tsubstr remov addit valu return function result fals progress through version final present adopt wide rang industri project spring focus around provid way manag busi object spring both comprehens modular maximum valu learn curv easi introduc spring increment exist project spring design ground help write code easi test spring ideal framework test driven project spring increasingli import integr technolog role recogn sever larg vendor spring necessarili one more framework depend project spring potenti one stop shop address infrastructur concern typic applic goe place framework don open sourc project februari spring long heritag expert one one laid out basic architectur think behind spring now develop lead contributor devot full time spring develop support flourish open sourc commun help evolv far more achiev individu spring take care plumb left use strut framework gear particular spring elimin prolifer singleton seen mani project experi major problem reduc testabl object orient spring simpli look class properti constructor argument use invers control depend inject discuss below help achiev simplif spring design applic built depend few possibl busi object spring applic depend spring applic built use spring veri easi unit test spring make use implement choic determin applic architectur choos implement busi interfac local without affect call code spring help solv mani problem without use spring provid altern appropri mani applic see consist spring approach mani import spring essenti technolog dedic enabl build applic use desir goal requir sophist framework conceal much complex develop \n",
      "3:\tsqueak squeak import static squeak new style releas instal help power script base environ learn scienc math encourag explor experiment \n",
      "4:\tpro support pro function download trial web servic test tool lead tool web servic test more download use tool test world pro extend version profession support extend function pro two more request respons editor form editor outlin editor thank team ole featur com \n",
      "\n",
      "Extracted 8251 documents\n",
      "\n",
      "0:\t[6, 12]\n",
      "1:\t[0, 0, 0, 0, 0, 0, 0, 0, 0, 0, 0, 0, 0, 0, 0, 0, 0, 0, 0, 0, 0, 0, 0, 12, 0, 0, 0, 0]\n",
      "2:\t[0, 0, 0, 0, 0, 0, 0, 0, 0, 10, 10, 0, 0, 10, 9, 6, 7, 0, 0, 0, 7, 0, 0, 7, 7, 0, 7, 0, 0, 7, 0]\n",
      "3:\t[0, 0]\n",
      "4:\t[4, 0, 0, 4, 0, 6, 0]\n",
      "\n",
      "Extracted 8251 documents\n"
     ]
    }
   ],
   "source": [
    "print('\\nFirst 5 train documents\\n')\n",
    "for i in range(5):\n",
    "    print('{}:\\t{}'.format(i, train_doc[i]))\n",
    "print('\\nExtracted {} documents'.format(len(train_doc)))\n",
    "\n",
    "print()\n",
    "for i in range(5):\n",
    "    print('{}:\\t{}'.format(i, train_doc_clustered[i]))\n",
    "print('\\nExtracted {} documents'.format(len(train_doc_clustered)))"
   ]
  },
  {
   "cell_type": "code",
   "execution_count": 17,
   "id": "c14767d9",
   "metadata": {},
   "outputs": [
    {
     "name": "stdout",
     "output_type": "stream",
     "text": [
      "\n",
      "First 5 test documents\n",
      "\n",
      "0:\there ad comment motiv behind convent apolog length realli use stuff base previou standard clear few area confus rule name don use acronym exampl gener don creat doubl see special section below don make class find out someth similar alreadi exist first one sub optim way better five perfect way fewer class better don gener earli code easier read call well known function local function code reus one librari portion system chang share code chang both place don put code class need class data don someon read code make assumpt base current implement chang function method intent chang name turn out one import rule even unit test realli hard track depend need code coverag tool exhaust test origin lot file singl directori each file itself be modul more recent python project use more model list list alway item same type posit inform list matter fact today add use tupl local track depend between place use someth place pack someth hard same fragil exist lot lisp softwar dictionari avoid use dictionari structur pre defin set attribut use class access attribut word qualifi dictionari alway variabl constant use string symbol evil object class privat instanc variabl start underscor word badli tri instanc variabl privat privat variabl start underscor \n",
      "1:\tpresent studi again confer end june way realli look forward book eventu come out work take good sign thing come look forward continu convers collabor confer highlight excel parti gener thrown jonathan pretti spectacular danc done date comment comment categori life academia video final end year actual roll out video memor commun guidelin know share photo yourself taken controversi asid turn out mayb hand express eye tell life second captur person instead click realli think idea long portrait quit brilliant haven regularli news dump product agenda half stori anyway last month produc output now seen light day last joshua green sent manuscript book publish now gone reader hope make more announc veri near futur watch amaz draw gentli joke noth arriv christian came believ histori predetermin goal human salvat though suppress religi content secular humanist continu similar belief problem secular narr assum progress inevit mani version belief sort advanc achiev scienc reproduc ethic polit fact scientif knowledg increas cumul noth kind happen societi wealth increas repeatedli destroy war revolut peopl live longer kill one anoth larger number knowledg grow human be remain much same one few video won select film festiv actual proud govern first time veri long time more lie govern australia apologis wrong feel joy optim joy come done well today reader watch apolog live morn here part part here \n",
      "2:\tlanguag languag block text need translat translat unlock block text languag languag window live similar servic translat web page block text differ languag anyon attempt learn languag know verb conjug tricki come handi free onlin verb conjug avail dozen languag note prepar slow load time depend languag look favorit languag translat tool weekend editor need brush french subscrib featur seri use feed much narrow educ read wrote leav confus add latin english translat list languag peopl way much time hand repli email com veri good japanes translat sentenc translat yourself word way won end those weird sentenc obvious french veri french repli email sometim situat don even know languag text repli email realli good dictionari english italian word translat site start italian link top page switch english webster onlin dictionari french english spanish english dictionari right now access free watch brief repli email quit bit translat portugues english sometim spanish give more nuanc word imagin decent english portugues leav littl desir anoth good program consid same thing plug thunderbird lot peopl reli auto translat don realiz get inaccur translat simpli need basic idea someth auto translat fine need accur understand document offici purpos find profession human translat need good bilingu dictionari com one best excel onlin english russian dictionari \n",
      "3:\tsupport vector databas format licens under gnu gener public licens let brows creat map data comput support mani common spatial data format support thing display track open sourc softwar free cost download here partial web servic restor releas friday april version releas packag major platform now avail inform releas see announc suggest use same previous use bug feedback assign continu normal note alreadi user need creat new one origin continu work mail list address chang exist member migrat new list over come week work migrat web site doubt small carri out chang releas sunday januari version releas packag major platform now avail inform releas see announc releas saturday octob version releas packag major platform now avail inform releas see announc \n",
      "4:\tword entri rang teach use spell abbrevi translat plu definit sourc idiom acronym synonym term use privaci polici notic disclaim document locat protocol document write com type text script tag answer \n",
      "\n",
      "Extracted 3983 documents\n",
      "\n",
      "0:\t[11, 7, 0, 2, 0, 0, 0, 10, 0, 0, 10, 0, 0, 0, 2, 10, 0, 0, 1, 6, 0, 0, 7, 7, 0, 7, 7, 0, 7, 0, 0]\n",
      "1:\t[0, 8, 0, 0, 0, 0, 0, 0, 0, 0, 0, 0, 0, 0, 5, 5, 6, 0, 0, 0, 0, 0, 0, 0, 10, 0, 10, 9, 6, 0, 11]\n",
      "2:\t[0, 0, 0, 0, 0, 5, 9, 0, 0, 7, 0, 0, 9, 0, 0, 0, 0, 0, 0, 0, 0, 5, 0, 6, 0, 0, 0, 0, 0, 10, 0]\n",
      "3:\t[0, 0, 0, 0, 0, 4, 0, 5, 0, 7, 12, 8, 12, 8, 0, 5, 0, 5, 0]\n",
      "4:\t[7, 0, 7, 3]\n",
      "\n",
      "Extracted 3983 documents\n"
     ]
    }
   ],
   "source": [
    "print('\\nFirst 5 test documents\\n')\n",
    "for i in range(5):\n",
    "    print('{}:\\t{}'.format(i, test_doc[i]))\n",
    "print('\\nExtracted {} documents'.format(len(test_doc)))\n",
    "\n",
    "print()\n",
    "for i in range(5):\n",
    "    print('{}:\\t{}'.format(i, test_doc_clustered[i]))\n",
    "print('\\nExtracted {} documents'.format(len(test_doc_clustered)))"
   ]
  },
  {
   "cell_type": "markdown",
   "id": "fd408a57",
   "metadata": {},
   "source": [
    "## Convert our multi-label problem to a binary classification problem"
   ]
  },
  {
   "cell_type": "code",
   "execution_count": 18,
   "id": "02821eff",
   "metadata": {},
   "outputs": [
    {
     "data": {
      "text/plain": [
       "array([[1, 0, 1, ..., 0, 0, 0],\n",
       "       [0, 0, 1, ..., 0, 0, 0],\n",
       "       [1, 0, 0, ..., 0, 0, 0],\n",
       "       ...,\n",
       "       [0, 0, 0, ..., 0, 0, 0],\n",
       "       [1, 0, 1, ..., 1, 0, 0],\n",
       "       [0, 1, 0, ..., 0, 0, 0]], dtype=int8)"
      ]
     },
     "execution_count": 18,
     "metadata": {},
     "output_type": "execute_result"
    }
   ],
   "source": [
    "train_labels"
   ]
  },
  {
   "cell_type": "code",
   "execution_count": 19,
   "id": "9d0255aa",
   "metadata": {},
   "outputs": [
    {
     "data": {
      "text/plain": [
       "array([[1, 1, 1, ..., 0, 0, 0],\n",
       "       [0, 0, 0, ..., 0, 0, 0],\n",
       "       [0, 0, 1, ..., 0, 0, 0],\n",
       "       ...,\n",
       "       [0, 0, 0, ..., 0, 0, 0],\n",
       "       [1, 0, 0, ..., 0, 0, 0],\n",
       "       [0, 0, 1, ..., 0, 0, 0]], dtype=int8)"
      ]
     },
     "execution_count": 19,
     "metadata": {},
     "output_type": "execute_result"
    }
   ],
   "source": [
    "test_labels"
   ]
  },
  {
   "cell_type": "code",
   "execution_count": 20,
   "id": "70658048",
   "metadata": {},
   "outputs": [
    {
     "name": "stdout",
     "output_type": "stream",
     "text": [
      "Most frequent class: 2\n"
     ]
    }
   ],
   "source": [
    "class_frequencies = np.sum(train_labels, axis=0)\n",
    "most_frequent_class = np.argmax(class_frequencies)\n",
    "print('Most frequent class:',format(most_frequent_class))"
   ]
  },
  {
   "cell_type": "code",
   "execution_count": 21,
   "id": "1efaafd1",
   "metadata": {},
   "outputs": [
    {
     "name": "stdout",
     "output_type": "stream",
     "text": [
      "Original: [1 0 1 1 1 0 0 0 0 0 0 0 1 0 0 0 0 0 0 0]\tBinary: 1\n",
      "Original: [0 0 1 0 0 0 1 0 0 0 0 0 0 0 0 1 0 0 0 0]\tBinary: 1\n",
      "Original: [1 0 0 1 0 0 0 1 0 0 0 0 0 0 0 0 0 0 0 0]\tBinary: 0\n",
      "Original: [1 0 0 0 0 0 0 1 1 1 0 0 1 0 0 0 0 0 0 0]\tBinary: 0\n",
      "Original: [1 0 0 1 1 0 0 0 0 0 0 0 0 0 0 0 0 0 0 0]\tBinary: 0\n",
      "Original: [0 0 1 0 0 0 0 0 1 0 0 0 0 0 0 0 0 1 0 0]\tBinary: 1\n",
      "Original: [1 0 0 1 0 0 0 1 0 1 0 0 0 0 0 0 0 0 0 0]\tBinary: 0\n",
      "Original: [0 1 0 0 1 0 0 1 0 0 0 0 0 0 0 0 0 0 0 0]\tBinary: 0\n",
      "Original: [0 0 1 0 0 0 0 0 1 0 0 0 0 1 0 0 0 1 0 0]\tBinary: 1\n",
      "Original: [0 0 0 0 0 0 1 0 0 0 0 0 0 0 0 0 0 1 0 0]\tBinary: 0\n"
     ]
    }
   ],
   "source": [
    "train_binary_labels = multilabel_to_binary(train_labels,most_frequent_class)\n",
    "test_binary_labels = multilabel_to_binary(test_labels,most_frequent_class)\n",
    "\n",
    "for i in range(10):\n",
    "    print('Original: {}\\tBinary: {}'.format(train_labels[i], train_binary_labels[i]))"
   ]
  },
  {
   "cell_type": "markdown",
   "id": "db49f1ed",
   "metadata": {},
   "source": [
    "## Modify the datasets. Attributes are now cluster numbers"
   ]
  },
  {
   "cell_type": "code",
   "execution_count": 22,
   "id": "14bec2c5",
   "metadata": {},
   "outputs": [],
   "source": [
    "train_doc_clustered = docs_per_cluster(k, train_doc_clustered)"
   ]
  },
  {
   "cell_type": "code",
   "execution_count": 23,
   "id": "fefba2a9",
   "metadata": {},
   "outputs": [
    {
     "data": {
      "text/html": [
       "<div>\n",
       "<style scoped>\n",
       "    .dataframe tbody tr th:only-of-type {\n",
       "        vertical-align: middle;\n",
       "    }\n",
       "\n",
       "    .dataframe tbody tr th {\n",
       "        vertical-align: top;\n",
       "    }\n",
       "\n",
       "    .dataframe thead th {\n",
       "        text-align: right;\n",
       "    }\n",
       "</style>\n",
       "<table border=\"1\" class=\"dataframe\">\n",
       "  <thead>\n",
       "    <tr style=\"text-align: right;\">\n",
       "      <th></th>\n",
       "      <th>cluster_0</th>\n",
       "      <th>cluster_1</th>\n",
       "      <th>cluster_2</th>\n",
       "      <th>cluster_3</th>\n",
       "      <th>cluster_4</th>\n",
       "      <th>cluster_5</th>\n",
       "      <th>cluster_6</th>\n",
       "      <th>cluster_7</th>\n",
       "      <th>cluster_8</th>\n",
       "      <th>cluster_9</th>\n",
       "      <th>cluster_10</th>\n",
       "      <th>cluster_11</th>\n",
       "      <th>cluster_12</th>\n",
       "    </tr>\n",
       "  </thead>\n",
       "  <tbody>\n",
       "    <tr>\n",
       "      <th>0</th>\n",
       "      <td>0</td>\n",
       "      <td>0</td>\n",
       "      <td>0</td>\n",
       "      <td>0</td>\n",
       "      <td>0</td>\n",
       "      <td>0</td>\n",
       "      <td>1</td>\n",
       "      <td>0</td>\n",
       "      <td>0</td>\n",
       "      <td>0</td>\n",
       "      <td>0</td>\n",
       "      <td>0</td>\n",
       "      <td>1</td>\n",
       "    </tr>\n",
       "    <tr>\n",
       "      <th>1</th>\n",
       "      <td>27</td>\n",
       "      <td>0</td>\n",
       "      <td>0</td>\n",
       "      <td>0</td>\n",
       "      <td>0</td>\n",
       "      <td>0</td>\n",
       "      <td>0</td>\n",
       "      <td>0</td>\n",
       "      <td>0</td>\n",
       "      <td>0</td>\n",
       "      <td>0</td>\n",
       "      <td>0</td>\n",
       "      <td>1</td>\n",
       "    </tr>\n",
       "    <tr>\n",
       "      <th>2</th>\n",
       "      <td>20</td>\n",
       "      <td>0</td>\n",
       "      <td>0</td>\n",
       "      <td>0</td>\n",
       "      <td>0</td>\n",
       "      <td>0</td>\n",
       "      <td>1</td>\n",
       "      <td>6</td>\n",
       "      <td>0</td>\n",
       "      <td>1</td>\n",
       "      <td>3</td>\n",
       "      <td>0</td>\n",
       "      <td>0</td>\n",
       "    </tr>\n",
       "    <tr>\n",
       "      <th>3</th>\n",
       "      <td>2</td>\n",
       "      <td>0</td>\n",
       "      <td>0</td>\n",
       "      <td>0</td>\n",
       "      <td>0</td>\n",
       "      <td>0</td>\n",
       "      <td>0</td>\n",
       "      <td>0</td>\n",
       "      <td>0</td>\n",
       "      <td>0</td>\n",
       "      <td>0</td>\n",
       "      <td>0</td>\n",
       "      <td>0</td>\n",
       "    </tr>\n",
       "    <tr>\n",
       "      <th>4</th>\n",
       "      <td>4</td>\n",
       "      <td>0</td>\n",
       "      <td>0</td>\n",
       "      <td>0</td>\n",
       "      <td>2</td>\n",
       "      <td>0</td>\n",
       "      <td>1</td>\n",
       "      <td>0</td>\n",
       "      <td>0</td>\n",
       "      <td>0</td>\n",
       "      <td>0</td>\n",
       "      <td>0</td>\n",
       "      <td>0</td>\n",
       "    </tr>\n",
       "    <tr>\n",
       "      <th>...</th>\n",
       "      <td>...</td>\n",
       "      <td>...</td>\n",
       "      <td>...</td>\n",
       "      <td>...</td>\n",
       "      <td>...</td>\n",
       "      <td>...</td>\n",
       "      <td>...</td>\n",
       "      <td>...</td>\n",
       "      <td>...</td>\n",
       "      <td>...</td>\n",
       "      <td>...</td>\n",
       "      <td>...</td>\n",
       "      <td>...</td>\n",
       "    </tr>\n",
       "    <tr>\n",
       "      <th>8246</th>\n",
       "      <td>7</td>\n",
       "      <td>0</td>\n",
       "      <td>0</td>\n",
       "      <td>0</td>\n",
       "      <td>0</td>\n",
       "      <td>0</td>\n",
       "      <td>0</td>\n",
       "      <td>0</td>\n",
       "      <td>0</td>\n",
       "      <td>0</td>\n",
       "      <td>0</td>\n",
       "      <td>2</td>\n",
       "      <td>0</td>\n",
       "    </tr>\n",
       "    <tr>\n",
       "      <th>8247</th>\n",
       "      <td>27</td>\n",
       "      <td>0</td>\n",
       "      <td>0</td>\n",
       "      <td>0</td>\n",
       "      <td>0</td>\n",
       "      <td>0</td>\n",
       "      <td>0</td>\n",
       "      <td>0</td>\n",
       "      <td>0</td>\n",
       "      <td>0</td>\n",
       "      <td>0</td>\n",
       "      <td>0</td>\n",
       "      <td>0</td>\n",
       "    </tr>\n",
       "    <tr>\n",
       "      <th>8248</th>\n",
       "      <td>21</td>\n",
       "      <td>0</td>\n",
       "      <td>0</td>\n",
       "      <td>0</td>\n",
       "      <td>0</td>\n",
       "      <td>0</td>\n",
       "      <td>0</td>\n",
       "      <td>0</td>\n",
       "      <td>3</td>\n",
       "      <td>0</td>\n",
       "      <td>0</td>\n",
       "      <td>3</td>\n",
       "      <td>3</td>\n",
       "    </tr>\n",
       "    <tr>\n",
       "      <th>8249</th>\n",
       "      <td>3</td>\n",
       "      <td>1</td>\n",
       "      <td>0</td>\n",
       "      <td>0</td>\n",
       "      <td>0</td>\n",
       "      <td>0</td>\n",
       "      <td>0</td>\n",
       "      <td>0</td>\n",
       "      <td>1</td>\n",
       "      <td>0</td>\n",
       "      <td>0</td>\n",
       "      <td>0</td>\n",
       "      <td>0</td>\n",
       "    </tr>\n",
       "    <tr>\n",
       "      <th>8250</th>\n",
       "      <td>2</td>\n",
       "      <td>0</td>\n",
       "      <td>0</td>\n",
       "      <td>0</td>\n",
       "      <td>0</td>\n",
       "      <td>0</td>\n",
       "      <td>0</td>\n",
       "      <td>0</td>\n",
       "      <td>0</td>\n",
       "      <td>0</td>\n",
       "      <td>0</td>\n",
       "      <td>0</td>\n",
       "      <td>1</td>\n",
       "    </tr>\n",
       "  </tbody>\n",
       "</table>\n",
       "<p>8251 rows × 13 columns</p>\n",
       "</div>"
      ],
      "text/plain": [
       "     cluster_0 cluster_1 cluster_2 cluster_3 cluster_4 cluster_5 cluster_6  \\\n",
       "0            0         0         0         0         0         0         1   \n",
       "1           27         0         0         0         0         0         0   \n",
       "2           20         0         0         0         0         0         1   \n",
       "3            2         0         0         0         0         0         0   \n",
       "4            4         0         0         0         2         0         1   \n",
       "...        ...       ...       ...       ...       ...       ...       ...   \n",
       "8246         7         0         0         0         0         0         0   \n",
       "8247        27         0         0         0         0         0         0   \n",
       "8248        21         0         0         0         0         0         0   \n",
       "8249         3         1         0         0         0         0         0   \n",
       "8250         2         0         0         0         0         0         0   \n",
       "\n",
       "     cluster_7 cluster_8 cluster_9 cluster_10 cluster_11 cluster_12  \n",
       "0            0         0         0          0          0          1  \n",
       "1            0         0         0          0          0          1  \n",
       "2            6         0         1          3          0          0  \n",
       "3            0         0         0          0          0          0  \n",
       "4            0         0         0          0          0          0  \n",
       "...        ...       ...       ...        ...        ...        ...  \n",
       "8246         0         0         0          0          2          0  \n",
       "8247         0         0         0          0          0          0  \n",
       "8248         0         3         0          0          3          3  \n",
       "8249         0         1         0          0          0          0  \n",
       "8250         0         0         0          0          0          1  \n",
       "\n",
       "[8251 rows x 13 columns]"
      ]
     },
     "execution_count": 23,
     "metadata": {},
     "output_type": "execute_result"
    }
   ],
   "source": [
    "train_doc_clustered"
   ]
  },
  {
   "cell_type": "code",
   "execution_count": 24,
   "id": "3a75acba",
   "metadata": {},
   "outputs": [
    {
     "data": {
      "text/plain": [
       "(8251,)"
      ]
     },
     "execution_count": 24,
     "metadata": {},
     "output_type": "execute_result"
    }
   ],
   "source": [
    "train_binary_labels.shape"
   ]
  },
  {
   "cell_type": "code",
   "execution_count": 25,
   "id": "69a2301f",
   "metadata": {},
   "outputs": [],
   "source": [
    "test_doc_clustered = docs_per_cluster(k, test_doc_clustered)"
   ]
  },
  {
   "cell_type": "code",
   "execution_count": 26,
   "id": "7cb2de8e",
   "metadata": {},
   "outputs": [
    {
     "data": {
      "text/html": [
       "<div>\n",
       "<style scoped>\n",
       "    .dataframe tbody tr th:only-of-type {\n",
       "        vertical-align: middle;\n",
       "    }\n",
       "\n",
       "    .dataframe tbody tr th {\n",
       "        vertical-align: top;\n",
       "    }\n",
       "\n",
       "    .dataframe thead th {\n",
       "        text-align: right;\n",
       "    }\n",
       "</style>\n",
       "<table border=\"1\" class=\"dataframe\">\n",
       "  <thead>\n",
       "    <tr style=\"text-align: right;\">\n",
       "      <th></th>\n",
       "      <th>cluster_0</th>\n",
       "      <th>cluster_1</th>\n",
       "      <th>cluster_2</th>\n",
       "      <th>cluster_3</th>\n",
       "      <th>cluster_4</th>\n",
       "      <th>cluster_5</th>\n",
       "      <th>cluster_6</th>\n",
       "      <th>cluster_7</th>\n",
       "      <th>cluster_8</th>\n",
       "      <th>cluster_9</th>\n",
       "      <th>cluster_10</th>\n",
       "      <th>cluster_11</th>\n",
       "      <th>cluster_12</th>\n",
       "    </tr>\n",
       "  </thead>\n",
       "  <tbody>\n",
       "    <tr>\n",
       "      <th>0</th>\n",
       "      <td>17</td>\n",
       "      <td>1</td>\n",
       "      <td>2</td>\n",
       "      <td>0</td>\n",
       "      <td>0</td>\n",
       "      <td>0</td>\n",
       "      <td>1</td>\n",
       "      <td>6</td>\n",
       "      <td>0</td>\n",
       "      <td>0</td>\n",
       "      <td>3</td>\n",
       "      <td>1</td>\n",
       "      <td>0</td>\n",
       "    </tr>\n",
       "    <tr>\n",
       "      <th>1</th>\n",
       "      <td>22</td>\n",
       "      <td>0</td>\n",
       "      <td>0</td>\n",
       "      <td>0</td>\n",
       "      <td>0</td>\n",
       "      <td>2</td>\n",
       "      <td>2</td>\n",
       "      <td>0</td>\n",
       "      <td>1</td>\n",
       "      <td>1</td>\n",
       "      <td>2</td>\n",
       "      <td>1</td>\n",
       "      <td>0</td>\n",
       "    </tr>\n",
       "    <tr>\n",
       "      <th>2</th>\n",
       "      <td>24</td>\n",
       "      <td>0</td>\n",
       "      <td>0</td>\n",
       "      <td>0</td>\n",
       "      <td>0</td>\n",
       "      <td>2</td>\n",
       "      <td>1</td>\n",
       "      <td>1</td>\n",
       "      <td>0</td>\n",
       "      <td>2</td>\n",
       "      <td>1</td>\n",
       "      <td>0</td>\n",
       "      <td>0</td>\n",
       "    </tr>\n",
       "    <tr>\n",
       "      <th>3</th>\n",
       "      <td>10</td>\n",
       "      <td>0</td>\n",
       "      <td>0</td>\n",
       "      <td>0</td>\n",
       "      <td>1</td>\n",
       "      <td>3</td>\n",
       "      <td>0</td>\n",
       "      <td>1</td>\n",
       "      <td>2</td>\n",
       "      <td>0</td>\n",
       "      <td>0</td>\n",
       "      <td>0</td>\n",
       "      <td>2</td>\n",
       "    </tr>\n",
       "    <tr>\n",
       "      <th>4</th>\n",
       "      <td>1</td>\n",
       "      <td>0</td>\n",
       "      <td>0</td>\n",
       "      <td>1</td>\n",
       "      <td>0</td>\n",
       "      <td>0</td>\n",
       "      <td>0</td>\n",
       "      <td>2</td>\n",
       "      <td>0</td>\n",
       "      <td>0</td>\n",
       "      <td>0</td>\n",
       "      <td>0</td>\n",
       "      <td>0</td>\n",
       "    </tr>\n",
       "    <tr>\n",
       "      <th>...</th>\n",
       "      <td>...</td>\n",
       "      <td>...</td>\n",
       "      <td>...</td>\n",
       "      <td>...</td>\n",
       "      <td>...</td>\n",
       "      <td>...</td>\n",
       "      <td>...</td>\n",
       "      <td>...</td>\n",
       "      <td>...</td>\n",
       "      <td>...</td>\n",
       "      <td>...</td>\n",
       "      <td>...</td>\n",
       "      <td>...</td>\n",
       "    </tr>\n",
       "    <tr>\n",
       "      <th>3978</th>\n",
       "      <td>5</td>\n",
       "      <td>0</td>\n",
       "      <td>0</td>\n",
       "      <td>0</td>\n",
       "      <td>0</td>\n",
       "      <td>0</td>\n",
       "      <td>2</td>\n",
       "      <td>0</td>\n",
       "      <td>0</td>\n",
       "      <td>0</td>\n",
       "      <td>0</td>\n",
       "      <td>0</td>\n",
       "      <td>0</td>\n",
       "    </tr>\n",
       "    <tr>\n",
       "      <th>3979</th>\n",
       "      <td>19</td>\n",
       "      <td>2</td>\n",
       "      <td>0</td>\n",
       "      <td>0</td>\n",
       "      <td>0</td>\n",
       "      <td>4</td>\n",
       "      <td>1</td>\n",
       "      <td>5</td>\n",
       "      <td>0</td>\n",
       "      <td>0</td>\n",
       "      <td>0</td>\n",
       "      <td>0</td>\n",
       "      <td>0</td>\n",
       "    </tr>\n",
       "    <tr>\n",
       "      <th>3980</th>\n",
       "      <td>19</td>\n",
       "      <td>0</td>\n",
       "      <td>0</td>\n",
       "      <td>0</td>\n",
       "      <td>0</td>\n",
       "      <td>0</td>\n",
       "      <td>3</td>\n",
       "      <td>2</td>\n",
       "      <td>3</td>\n",
       "      <td>0</td>\n",
       "      <td>1</td>\n",
       "      <td>0</td>\n",
       "      <td>3</td>\n",
       "    </tr>\n",
       "    <tr>\n",
       "      <th>3981</th>\n",
       "      <td>2</td>\n",
       "      <td>0</td>\n",
       "      <td>0</td>\n",
       "      <td>1</td>\n",
       "      <td>0</td>\n",
       "      <td>0</td>\n",
       "      <td>0</td>\n",
       "      <td>0</td>\n",
       "      <td>0</td>\n",
       "      <td>0</td>\n",
       "      <td>0</td>\n",
       "      <td>0</td>\n",
       "      <td>0</td>\n",
       "    </tr>\n",
       "    <tr>\n",
       "      <th>3982</th>\n",
       "      <td>2</td>\n",
       "      <td>0</td>\n",
       "      <td>0</td>\n",
       "      <td>0</td>\n",
       "      <td>0</td>\n",
       "      <td>0</td>\n",
       "      <td>0</td>\n",
       "      <td>1</td>\n",
       "      <td>0</td>\n",
       "      <td>0</td>\n",
       "      <td>0</td>\n",
       "      <td>0</td>\n",
       "      <td>0</td>\n",
       "    </tr>\n",
       "  </tbody>\n",
       "</table>\n",
       "<p>3983 rows × 13 columns</p>\n",
       "</div>"
      ],
      "text/plain": [
       "     cluster_0 cluster_1 cluster_2 cluster_3 cluster_4 cluster_5 cluster_6  \\\n",
       "0           17         1         2         0         0         0         1   \n",
       "1           22         0         0         0         0         2         2   \n",
       "2           24         0         0         0         0         2         1   \n",
       "3           10         0         0         0         1         3         0   \n",
       "4            1         0         0         1         0         0         0   \n",
       "...        ...       ...       ...       ...       ...       ...       ...   \n",
       "3978         5         0         0         0         0         0         2   \n",
       "3979        19         2         0         0         0         4         1   \n",
       "3980        19         0         0         0         0         0         3   \n",
       "3981         2         0         0         1         0         0         0   \n",
       "3982         2         0         0         0         0         0         0   \n",
       "\n",
       "     cluster_7 cluster_8 cluster_9 cluster_10 cluster_11 cluster_12  \n",
       "0            6         0         0          3          1          0  \n",
       "1            0         1         1          2          1          0  \n",
       "2            1         0         2          1          0          0  \n",
       "3            1         2         0          0          0          2  \n",
       "4            2         0         0          0          0          0  \n",
       "...        ...       ...       ...        ...        ...        ...  \n",
       "3978         0         0         0          0          0          0  \n",
       "3979         5         0         0          0          0          0  \n",
       "3980         2         3         0          1          0          3  \n",
       "3981         0         0         0          0          0          0  \n",
       "3982         1         0         0          0          0          0  \n",
       "\n",
       "[3983 rows x 13 columns]"
      ]
     },
     "execution_count": 26,
     "metadata": {},
     "output_type": "execute_result"
    }
   ],
   "source": [
    "test_doc_clustered"
   ]
  },
  {
   "cell_type": "code",
   "execution_count": 27,
   "id": "a441c572",
   "metadata": {},
   "outputs": [
    {
     "data": {
      "text/plain": [
       "(3983, 13)"
      ]
     },
     "execution_count": 27,
     "metadata": {},
     "output_type": "execute_result"
    }
   ],
   "source": [
    "test_doc_clustered.shape"
   ]
  },
  {
   "cell_type": "markdown",
   "id": "c6e041c8",
   "metadata": {},
   "source": [
    "## Train and evaluate binary classification"
   ]
  },
  {
   "cell_type": "code",
   "execution_count": 28,
   "id": "a06943c8",
   "metadata": {},
   "outputs": [
    {
     "name": "stdout",
     "output_type": "stream",
     "text": [
      "\n",
      "Evaluating Gaussian Naive Bayes Classifier\n",
      "              precision    recall  f1-score   support\n",
      "\n",
      "           0       0.63      0.84      0.72      2425\n",
      "           1       0.46      0.22      0.30      1558\n",
      "\n",
      "    accuracy                           0.60      3983\n",
      "   macro avg       0.54      0.53      0.51      3983\n",
      "weighted avg       0.56      0.60      0.55      3983\n",
      "\n",
      "Subset accuracy = 0.5957820738137083\n",
      "\n",
      "Evaluating Logistic Regression Classifier\n",
      "              precision    recall  f1-score   support\n",
      "\n",
      "           0       0.62      0.96      0.75      2425\n",
      "           1       0.52      0.07      0.13      1558\n",
      "\n",
      "    accuracy                           0.61      3983\n",
      "   macro avg       0.57      0.51      0.44      3983\n",
      "weighted avg       0.58      0.61      0.51      3983\n",
      "\n",
      "Subset accuracy = 0.6110971629425056\n"
     ]
    },
    {
     "name": "stderr",
     "output_type": "stream",
     "text": [
      "C:\\Users\\30698\\anaconda3\\lib\\site-packages\\sklearn\\svm\\_base.py:1244: ConvergenceWarning: Liblinear failed to converge, increase the number of iterations.\n",
      "  warnings.warn(\n"
     ]
    },
    {
     "name": "stdout",
     "output_type": "stream",
     "text": [
      "\n",
      "Evaluating Support Vector Machine Classifier\n",
      "              precision    recall  f1-score   support\n",
      "\n",
      "           0       0.62      0.95      0.75      2425\n",
      "           1       0.54      0.08      0.15      1558\n",
      "\n",
      "    accuracy                           0.61      3983\n",
      "   macro avg       0.58      0.52      0.45      3983\n",
      "weighted avg       0.59      0.61      0.51      3983\n",
      "\n",
      "Subset accuracy = 0.6138589003263871\n",
      "\n",
      "Evaluating K-nearest Neighbors Classifier\n",
      "              precision    recall  f1-score   support\n",
      "\n",
      "           0       0.63      0.73      0.68      2425\n",
      "           1       0.44      0.33      0.37      1558\n",
      "\n",
      "    accuracy                           0.57      3983\n",
      "   macro avg       0.53      0.53      0.53      3983\n",
      "weighted avg       0.55      0.57      0.56      3983\n",
      "\n",
      "Subset accuracy = 0.5731860406728596\n",
      "\n",
      "Evaluating Random Forest Classifier\n",
      "              precision    recall  f1-score   support\n",
      "\n",
      "           0       0.63      0.80      0.70      2425\n",
      "           1       0.46      0.27      0.34      1558\n",
      "\n",
      "    accuracy                           0.59      3983\n",
      "   macro avg       0.54      0.53      0.52      3983\n",
      "weighted avg       0.56      0.59      0.56      3983\n",
      "\n",
      "Subset accuracy = 0.590760733115742\n",
      "\n",
      "Evaluating Gradient Boosting Classifier\n",
      "              precision    recall  f1-score   support\n",
      "\n",
      "           0       0.62      0.93      0.74      2425\n",
      "           1       0.49      0.10      0.17      1558\n",
      "\n",
      "    accuracy                           0.61      3983\n",
      "   macro avg       0.55      0.52      0.45      3983\n",
      "weighted avg       0.57      0.61      0.52      3983\n",
      "\n",
      "Subset accuracy = 0.6075822244539292\n"
     ]
    }
   ],
   "source": [
    "train_binary_clf(train_doc_clustered, train_binary_labels, test_doc_clustered, test_binary_labels)"
   ]
  },
  {
   "cell_type": "markdown",
   "id": "af99c36f",
   "metadata": {},
   "source": [
    "# Second Approach "
   ]
  },
  {
   "cell_type": "markdown",
   "id": "4719f550",
   "metadata": {},
   "source": [
    "## Read data from files - Document level"
   ]
  },
  {
   "cell_type": "code",
   "execution_count": 29,
   "id": "1366a4af",
   "metadata": {},
   "outputs": [],
   "source": [
    "train_doc, _, train_labels = read_data_per_doc(vocab, tr_file,tr_lbl_file)\n",
    "test_doc, _, test_labels = read_data_per_doc(vocab, t_file,t_lbl_file)"
   ]
  },
  {
   "cell_type": "markdown",
   "id": "99bb0489",
   "metadata": {},
   "source": [
    "## Turn docs into vectors"
   ]
  },
  {
   "cell_type": "code",
   "execution_count": 30,
   "id": "ebfde6b6",
   "metadata": {},
   "outputs": [
    {
     "data": {
      "text/plain": [
       "((8251, 8520), (3983, 8520))"
      ]
     },
     "execution_count": 30,
     "metadata": {},
     "output_type": "execute_result"
    }
   ],
   "source": [
    "tfidf_vectorizer = TfidfVectorizer()\n",
    "train_inputs = tfidf_vectorizer.fit_transform(train_doc)\n",
    "test_inputs = tfidf_vectorizer.transform(test_doc)\n",
    "\n",
    "train_inputs.shape, test_inputs.shape"
   ]
  },
  {
   "cell_type": "markdown",
   "id": "e4fa1460",
   "metadata": {},
   "source": [
    "## Convert our multi-label problem to a binary classification problem"
   ]
  },
  {
   "cell_type": "code",
   "execution_count": 31,
   "id": "b389c87a",
   "metadata": {},
   "outputs": [],
   "source": [
    "class_frequencies = np.sum(train_labels, axis=0)\n",
    "most_frequent_class = np.argmax(class_frequencies)\n",
    "train_binary_labels = multilabel_to_binary(train_labels,most_frequent_class)\n",
    "test_binary_labels = multilabel_to_binary(test_labels,most_frequent_class)"
   ]
  },
  {
   "cell_type": "markdown",
   "id": "53e0fdae",
   "metadata": {},
   "source": [
    "## Train and evaluate binary classification"
   ]
  },
  {
   "cell_type": "code",
   "execution_count": 32,
   "id": "81765ea1",
   "metadata": {},
   "outputs": [
    {
     "name": "stdout",
     "output_type": "stream",
     "text": [
      "\n",
      "Evaluating Gaussian Naive Bayes Classifier\n",
      "              precision    recall  f1-score   support\n",
      "\n",
      "           0       0.69      0.41      0.51      2425\n",
      "           1       0.44      0.72      0.54      1558\n",
      "\n",
      "    accuracy                           0.53      3983\n",
      "   macro avg       0.56      0.56      0.53      3983\n",
      "weighted avg       0.59      0.53      0.53      3983\n",
      "\n",
      "Subset accuracy = 0.5289982425307557\n",
      "\n",
      "Evaluating Logistic Regression Classifier\n",
      "              precision    recall  f1-score   support\n",
      "\n",
      "           0       0.69      0.87      0.77      2425\n",
      "           1       0.66      0.40      0.49      1558\n",
      "\n",
      "    accuracy                           0.68      3983\n",
      "   macro avg       0.67      0.63      0.63      3983\n",
      "weighted avg       0.68      0.68      0.66      3983\n",
      "\n",
      "Subset accuracy = 0.6834044689932212\n",
      "\n",
      "Evaluating Support Vector Machine Classifier\n",
      "              precision    recall  f1-score   support\n",
      "\n",
      "           0       0.70      0.76      0.73      2425\n",
      "           1       0.57      0.49      0.52      1558\n",
      "\n",
      "    accuracy                           0.65      3983\n",
      "   macro avg       0.63      0.62      0.63      3983\n",
      "weighted avg       0.65      0.65      0.65      3983\n",
      "\n",
      "Subset accuracy = 0.6535274918403213\n",
      "\n",
      "Evaluating K-nearest Neighbors Classifier\n",
      "              precision    recall  f1-score   support\n",
      "\n",
      "           0       0.68      0.69      0.68      2425\n",
      "           1       0.50      0.48      0.49      1558\n",
      "\n",
      "    accuracy                           0.61      3983\n",
      "   macro avg       0.59      0.59      0.59      3983\n",
      "weighted avg       0.61      0.61      0.61      3983\n",
      "\n",
      "Subset accuracy = 0.610595028872709\n",
      "\n",
      "Evaluating Random Forest Classifier\n",
      "              precision    recall  f1-score   support\n",
      "\n",
      "           0       0.65      0.91      0.76      2425\n",
      "           1       0.64      0.25      0.36      1558\n",
      "\n",
      "    accuracy                           0.65      3983\n",
      "   macro avg       0.65      0.58      0.56      3983\n",
      "weighted avg       0.65      0.65      0.61      3983\n",
      "\n",
      "Subset accuracy = 0.6527742907356264\n",
      "\n",
      "Evaluating Gradient Boosting Classifier\n",
      "              precision    recall  f1-score   support\n",
      "\n",
      "           0       0.65      0.91      0.76      2425\n",
      "           1       0.64      0.24      0.35      1558\n",
      "\n",
      "    accuracy                           0.65      3983\n",
      "   macro avg       0.64      0.58      0.55      3983\n",
      "weighted avg       0.65      0.65      0.60      3983\n",
      "\n",
      "Subset accuracy = 0.64925935224705\n"
     ]
    }
   ],
   "source": [
    "train_binary_clf(train_inputs.toarray(), train_binary_labels, test_inputs.toarray(), test_binary_labels)"
   ]
  },
  {
   "cell_type": "markdown",
   "id": "ceb28a93",
   "metadata": {},
   "source": [
    "### Overall\n",
    "\n",
    "Approach 1: Clustering-based representation\n",
    "\n",
    "The subset accuracy ranged from 0.57 to 0.61 for the classifiers.\n",
    "Gaussian Naive Bayes and Logistic Regression classifiers performed relatively better in terms of subset accuracy compared to other classifiers.\n",
    "\n",
    "Approach 2: Sentence-based representation\n",
    "\n",
    "The subset accuracy ranged from 0.53 to 0.68, which shows a wider range compared to the first approach.\n",
    "Logistic Regression classifier achieved the highest subset accuracy of 0.68, followed by Random Forest classifier with 0.65.\n",
    "\n",
    "### Comparisons and Comments:\n",
    "\n",
    "Precision and Recall: In approach 2, the precision and recall values for both classes (0 and 1) tend to be more balanced compared to approach 1. This suggests that approach 2 achieves a better trade-off between correctly identifying positive instances (recall) and avoiding false positives (precision) for both classes. In approach 1, the precision and recall values for class 1 are generally lower, indicating potential difficulties in correctly predicting instances of class 1.\n",
    "\n",
    "F1-Score: The F1-scores in approach 2 are relatively higher for both classes compared to approach 1. The F1-score considers both precision and recall, providing a single metric that balances the classifier's performance on positive and negative instances. The higher F1-scores in approach 2 indicate a better overall performance in terms of correctly classifying instances of both classes.\n",
    "\n",
    "Subset Accuracy: Approach 2 consistently achieves higher subset accuracy compared to approach 1. The higher subset accuracy in approach 2 suggests that it more accurately predicts the labels for entire documents, considering all their sentences.\n",
    "\n",
    "\n",
    "Possible reasons for the better performance of approach 2 compared to approach 1 could include:\n",
    "\n",
    "1. Noise in Clustering: The clustering process in approach 1 may introduce noise or misclassification of sentences into clusters. This noise can affect the representation of documents and consequently impact the classifier's performance. Approach 2 avoids this issue by directly considering all sentences in each document.\n",
    "\n",
    "2. Imbalance in Cluster Sizes: In approach 1, if the clusters formed have imbalanced sizes, it can lead to unequal representation and potential bias in the classifier's training. Approach 2 avoids this issue by directly using the sentences of each document, ensuring a more balanced representation.\n",
    "\n",
    "Overall, maybe a better clustering might give better results."
   ]
  }
 ],
 "metadata": {
  "kernelspec": {
   "display_name": "myenv",
   "language": "python",
   "name": "myenv"
  },
  "language_info": {
   "codemirror_mode": {
    "name": "ipython",
    "version": 3
   },
   "file_extension": ".py",
   "mimetype": "text/x-python",
   "name": "python",
   "nbconvert_exporter": "python",
   "pygments_lexer": "ipython3",
   "version": "3.9.13"
  }
 },
 "nbformat": 4,
 "nbformat_minor": 5
}
