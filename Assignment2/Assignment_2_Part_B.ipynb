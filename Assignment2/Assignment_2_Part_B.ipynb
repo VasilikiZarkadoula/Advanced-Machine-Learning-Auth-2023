{
 "cells": [
  {
   "cell_type": "code",
   "execution_count": 1,
   "id": "3163654a",
   "metadata": {},
   "outputs": [],
   "source": [
    "import numpy as np\n",
    "from sklearn.feature_extraction.text import TfidfVectorizer\n",
    "from sklearn.cluster import KMeans"
   ]
  },
  {
   "cell_type": "code",
   "execution_count": 2,
   "id": "7cda036c",
   "metadata": {},
   "outputs": [],
   "source": [
    "tr_file = 'Data/train-data.dat'\n",
    "tr_lbl_file = 'Data/train-label.dat'\n",
    "t_file = 'Data/test-data.dat'\n",
    "t_lbl_file = 'Data/test-label.dat'\n",
    "labels_file = 'Data/labels.txt'\n",
    "vocab_file = 'Data/vocabs.txt'"
   ]
  },
  {
   "cell_type": "code",
   "execution_count": 3,
   "id": "1015a0b9",
   "metadata": {},
   "outputs": [],
   "source": [
    "'''\n",
    "def read_data_from_files_2(txt_file, data_file, labels_file):\n",
    "    dictionary = {}\n",
    "    data = []\n",
    "    labels = []\n",
    "\n",
    "    with open(txt_file, 'r') as txtfile:\n",
    "        lines = txtfile.read().splitlines()\n",
    "        for line in lines:\n",
    "            # splits the line into two values, the one before the comma (token) and the one after the comma (indx)           \n",
    "            token, indx = line.split(', ')\n",
    "            # create a dictionary of the form {indx: token}\n",
    "            dictionary[int(indx)] = token\n",
    "\n",
    "    \n",
    "    with open(data_file, 'r') as txtfile:\n",
    "        lines = txtfile.read().splitlines()\n",
    "        for line in lines:\n",
    "            line_data = line.split(' ')\n",
    "            # takes the first element of line_data by removing <> and taking only the element inside the brackets \n",
    "            # e.g. <215> results to 215 because 2,1,5 are the line_data[0][1], line_data[0][2] and line_data[0][3] respectively\n",
    "            num_doc_sentences = int(line_data[0][1:-1])  \n",
    "            doc_index = 1\n",
    "            doc = ''\n",
    "            \n",
    "            # loop through the sentences of the document\n",
    "            for i in range(num_doc_sentences):\n",
    "                # takes the second element of line_data by removing <> and taking only the element inside the brackets\n",
    "                num_sentence_tokens = int(line_data[doc_index][1:-1])\n",
    "                doc_index += 1\n",
    "                for i in range(doc_index, num_sentence_tokens + doc_index):\n",
    "                    # take the indexes of the tokens of the sentence and find the corresponding words from vocaabulary\n",
    "                    doc += dictionary[int(line_data[i])] + ' '\n",
    "                doc_index += num_sentence_tokens\n",
    "            data.append(doc)\n",
    "\n",
    "\n",
    "    with open(labels_file, 'r') as txtfile:\n",
    "        lines = txtfile.read().splitlines()\n",
    "        for line in lines:\n",
    "            doc_labels = [int(output) for output in line.split(' ')]\n",
    "            labels.append(doc_labels)\n",
    "\n",
    "    return data, np.int8(labels)\n",
    "'''    "
   ]
  },
  {
   "cell_type": "code",
   "execution_count": 4,
   "id": "8c65ea9c",
   "metadata": {},
   "outputs": [],
   "source": [
    "def read_data_from_files(txt_file, data_file, labels_file):\n",
    "    \n",
    "    dictionary = {}\n",
    "    data = []\n",
    "    labels = []\n",
    "    \n",
    "    with open(txt_file, 'r') as txtfile:\n",
    "        lines = txtfile.read().splitlines()\n",
    "        for line in lines:\n",
    "            # splits the line into two values, the one before the comma (token) and the one after the comma (indx)           \n",
    "            token, indx = line.split(', ')\n",
    "            # create a dictionary of the form {indx: token}\n",
    "            dictionary[int(indx)] = token\n",
    "    \n",
    "    with open(data_file, 'r') as txtfile:\n",
    "        lines = txtfile.read().splitlines()\n",
    "        for line in lines:\n",
    "            line_data = line.split(' ')\n",
    "            # takes the first element of line_data by removing <> and taking only the element inside the brackets \n",
    "            # e.g. <215> results in 215 because 2,1,5 are the line_data[0][1], line_data[0][2], and line_data[0][3] respectively\n",
    "            num_doc_sentences = int(line_data[0][1:-1])  \n",
    "            doc_index = 1\n",
    "            doc_sentences = []  # Store sentences of the document\n",
    "            \n",
    "            # Loop through the sentences of the document\n",
    "            for i in range(num_doc_sentences):\n",
    "                # takes the second element of line_data by removing <> and taking only the element inside the brackets\n",
    "                num_sentence_tokens = int(line_data[doc_index][1:-1])\n",
    "                doc_index += 1\n",
    "                sentence = []\n",
    "                \n",
    "                for j in range(doc_index, num_sentence_tokens + doc_index):\n",
    "                    # Take the indexes of the tokens of the sentence and find the corresponding words from the vocabulary\n",
    "                    sentence.append(dictionary[int(line_data[j])])\n",
    "                \n",
    "                doc_index += num_sentence_tokens\n",
    "                data.append(' '.join(sentence))\n",
    "            \n",
    "    with open(labels_file, 'r') as txtfile:\n",
    "        lines = txtfile.read().splitlines()\n",
    "        for line in lines:\n",
    "            doc_labels = [int(output) for output in line.split(' ')]\n",
    "            labels.append(doc_labels)\n",
    "\n",
    "    return data, np.int8(labels)"
   ]
  },
  {
   "cell_type": "code",
   "execution_count": 5,
   "id": "53a2b6ad",
   "metadata": {},
   "outputs": [],
   "source": [
    "train_docs, train_labels = read_data_from_files(vocab_file, tr_file, tr_lbl_file)\n",
    "test_docs, test_labels = read_data_from_files(vocab_file, t_file, t_lbl_file)"
   ]
  },
  {
   "cell_type": "code",
   "execution_count": 6,
   "id": "7000ca96",
   "metadata": {},
   "outputs": [
    {
     "name": "stdout",
     "output_type": "stream",
     "text": [
      "\n",
      "First 3 train docs\n",
      "\n",
      "0:\trubi rail helper demo more info auto complet\n",
      "1:\tsee new helper action\n",
      "2:\tnull length substr locat\n",
      "\n",
      "Extracted 149925 documents\n",
      "\n",
      "Labels of the first 3 docs\n",
      "[[1 0 1 1 1 0 0 0 0 0 0 0 1 0 0 0 0 0 0 0]\n",
      " [0 0 1 0 0 0 1 0 0 0 0 0 0 0 0 1 0 0 0 0]\n",
      " [1 0 0 1 0 0 0 1 0 0 0 0 0 0 0 0 0 0 0 0]]\n"
     ]
    },
    {
     "data": {
      "text/plain": [
       "(8251, 20)"
      ]
     },
     "execution_count": 6,
     "metadata": {},
     "output_type": "execute_result"
    }
   ],
   "source": [
    "print('\\nFirst 3 train docs\\n')\n",
    "for i in range(3):\n",
    "    print('{}:\\t{}'.format(i, train_docs[i]))\n",
    "print('\\nExtracted {} documents'.format(len(train_docs)))\n",
    "\n",
    "print('\\nLabels of the first 3 docs')\n",
    "print(train_labels[0:3])\n",
    "train_labels.shape"
   ]
  },
  {
   "cell_type": "code",
   "execution_count": 7,
   "id": "3f180b2b",
   "metadata": {},
   "outputs": [
    {
     "name": "stdout",
     "output_type": "stream",
     "text": [
      "\n",
      "Extracted 73363 documents\n"
     ]
    }
   ],
   "source": [
    "print('\\nExtracted {} documents'.format(len(test_docs)))"
   ]
  },
  {
   "cell_type": "code",
   "execution_count": 8,
   "id": "f664c2ef",
   "metadata": {},
   "outputs": [
    {
     "data": {
      "text/plain": [
       "((149925, 8520), (73363, 8520))"
      ]
     },
     "execution_count": 8,
     "metadata": {},
     "output_type": "execute_result"
    }
   ],
   "source": [
    "tfidf_vectorizer = TfidfVectorizer(vocabulary=None)\n",
    "train_inputs = tfidf_vectorizer.fit_transform(train_docs)\n",
    "test_inputs = TfidfVectorizer(vocabulary=tfidf_vectorizer.get_feature_names_out()).fit_transform(test_docs)\n",
    "\n",
    "train_inputs.shape, test_inputs.shape"
   ]
  },
  {
   "cell_type": "markdown",
   "id": "fd408a57",
   "metadata": {},
   "source": [
    "### Convert our multi-label problem to a binary classification problem"
   ]
  },
  {
   "cell_type": "code",
   "execution_count": 9,
   "id": "02821eff",
   "metadata": {},
   "outputs": [
    {
     "data": {
      "text/plain": [
       "array([[1, 0, 1, ..., 0, 0, 0],\n",
       "       [0, 0, 1, ..., 0, 0, 0],\n",
       "       [1, 0, 0, ..., 0, 0, 0],\n",
       "       ...,\n",
       "       [0, 0, 0, ..., 0, 0, 0],\n",
       "       [1, 0, 1, ..., 1, 0, 0],\n",
       "       [0, 1, 0, ..., 0, 0, 0]], dtype=int8)"
      ]
     },
     "execution_count": 9,
     "metadata": {},
     "output_type": "execute_result"
    }
   ],
   "source": [
    "train_labels"
   ]
  },
  {
   "cell_type": "code",
   "execution_count": 10,
   "id": "1dda10f2",
   "metadata": {},
   "outputs": [],
   "source": [
    "def multilabel_to_binary(labels):\n",
    "    class_frequencies = np.sum(labels, axis=0)\n",
    "    most_frequent_class = np.argmax(class_frequencies)\n",
    "\n",
    "    binary_labels = np.zeros(labels.shape[0], dtype=int)\n",
    "    binary_labels[labels[:, most_frequent_class] == 1] = 1\n",
    "\n",
    "    return most_frequent_class, binary_labels"
   ]
  },
  {
   "cell_type": "code",
   "execution_count": 11,
   "id": "1efaafd1",
   "metadata": {},
   "outputs": [
    {
     "name": "stdout",
     "output_type": "stream",
     "text": [
      "Most frequent class: 2\n",
      "\n",
      "Original: [1 0 1 1 1 0 0 0 0 0 0 0 1 0 0 0 0 0 0 0]\tBinary: 1\n",
      "Original: [0 0 1 0 0 0 1 0 0 0 0 0 0 0 0 1 0 0 0 0]\tBinary: 1\n",
      "Original: [1 0 0 1 0 0 0 1 0 0 0 0 0 0 0 0 0 0 0 0]\tBinary: 0\n",
      "Original: [1 0 0 0 0 0 0 1 1 1 0 0 1 0 0 0 0 0 0 0]\tBinary: 0\n",
      "Original: [1 0 0 1 1 0 0 0 0 0 0 0 0 0 0 0 0 0 0 0]\tBinary: 0\n",
      "Original: [0 0 1 0 0 0 0 0 1 0 0 0 0 0 0 0 0 1 0 0]\tBinary: 1\n",
      "Original: [1 0 0 1 0 0 0 1 0 1 0 0 0 0 0 0 0 0 0 0]\tBinary: 0\n",
      "Original: [0 1 0 0 1 0 0 1 0 0 0 0 0 0 0 0 0 0 0 0]\tBinary: 0\n",
      "Original: [0 0 1 0 0 0 0 0 1 0 0 0 0 1 0 0 0 1 0 0]\tBinary: 1\n",
      "Original: [0 0 0 0 0 0 1 0 0 0 0 0 0 0 0 0 0 1 0 0]\tBinary: 0\n"
     ]
    }
   ],
   "source": [
    "most_frequent_class, train_binary_labels = multilabel_to_binary(train_labels)\n",
    "_, test_binary_labels = multilabel_to_binary(test_labels)\n",
    "\n",
    "print('Most frequent class:',format(most_frequent_class))\n",
    "print()\n",
    "for i in range(10):\n",
    "    print('Original: {}\\tBinary: {}'.format(train_labels[i], train_binary_labels[i]))"
   ]
  },
  {
   "cell_type": "code",
   "execution_count": 12,
   "id": "f794ff26",
   "metadata": {},
   "outputs": [
    {
     "data": {
      "text/plain": [
       "'\\nfrom collections import Counter\\n\\n# Perform clustering using K-means\\nkmeans = KMeans(n_clusters=5, random_state=42)\\nkmeans.fit(train_inputs)\\n\\n# Get cluster labels for each sentence\\ncluster_labels = kmeans.labels_\\n\\n# Count the number of sentences in each cluster\\ncluster_counts = Counter(cluster_labels)\\n\\n# Print the count of sentences in each cluster\\nfor cluster, count in cluster_counts.items():\\n    print(f\"Cluster {cluster}: {count} sentences\")\\n    \\n    \\ntotal_sentences = train_inputs.shape[0]\\nassigned_sentences = sum(cluster_counts.values())\\nif total_sentences == assigned_sentences:\\n    print(\"All sentences have been assigned to a cluster.\")\\nelse:\\n    print(\"Some sentences are not assigned to any cluster.\")\\n'"
      ]
     },
     "execution_count": 12,
     "metadata": {},
     "output_type": "execute_result"
    }
   ],
   "source": [
    "'''\n",
    "from collections import Counter\n",
    "\n",
    "# Perform clustering using K-means\n",
    "kmeans = KMeans(n_clusters=5, random_state=42)\n",
    "kmeans.fit(train_inputs)\n",
    "\n",
    "# Get cluster labels for each sentence\n",
    "cluster_labels = kmeans.labels_\n",
    "\n",
    "# Count the number of sentences in each cluster\n",
    "cluster_counts = Counter(cluster_labels)\n",
    "\n",
    "# Print the count of sentences in each cluster\n",
    "for cluster, count in cluster_counts.items():\n",
    "    print(f\"Cluster {cluster}: {count} sentences\")\n",
    "    \n",
    "    \n",
    "total_sentences = train_inputs.shape[0]\n",
    "assigned_sentences = sum(cluster_counts.values())\n",
    "if total_sentences == assigned_sentences:\n",
    "    print(\"All sentences have been assigned to a cluster.\")\n",
    "else:\n",
    "    print(\"Some sentences are not assigned to any cluster.\")\n",
    "'''"
   ]
  },
  {
   "cell_type": "code",
   "execution_count": 22,
   "id": "4a9e014e",
   "metadata": {},
   "outputs": [
    {
     "ename": "NameError",
     "evalue": "name 'plt' is not defined",
     "output_type": "error",
     "traceback": [
      "\u001b[1;31m---------------------------------------------------------------------------\u001b[0m",
      "\u001b[1;31mNameError\u001b[0m                                 Traceback (most recent call last)",
      "\u001b[1;32m~\\AppData\\Local\\Temp\\ipykernel_11220\\2336212943.py\u001b[0m in \u001b[0;36m<module>\u001b[1;34m\u001b[0m\n\u001b[0;32m     11\u001b[0m \u001b[1;33m\u001b[0m\u001b[0m\n\u001b[0;32m     12\u001b[0m \u001b[1;31m# Plot the WCSS values\u001b[0m\u001b[1;33m\u001b[0m\u001b[1;33m\u001b[0m\u001b[0m\n\u001b[1;32m---> 13\u001b[1;33m \u001b[0mplt\u001b[0m\u001b[1;33m.\u001b[0m\u001b[0mplot\u001b[0m\u001b[1;33m(\u001b[0m\u001b[0mrange\u001b[0m\u001b[1;33m(\u001b[0m\u001b[1;36m1\u001b[0m\u001b[1;33m,\u001b[0m \u001b[0mmax_clusters\u001b[0m \u001b[1;33m+\u001b[0m \u001b[1;36m1\u001b[0m\u001b[1;33m)\u001b[0m\u001b[1;33m,\u001b[0m \u001b[0mwcss\u001b[0m\u001b[1;33m,\u001b[0m \u001b[0mmarker\u001b[0m\u001b[1;33m=\u001b[0m\u001b[1;34m'o'\u001b[0m\u001b[1;33m)\u001b[0m\u001b[1;33m\u001b[0m\u001b[1;33m\u001b[0m\u001b[0m\n\u001b[0m\u001b[0;32m     14\u001b[0m \u001b[0mplt\u001b[0m\u001b[1;33m.\u001b[0m\u001b[0mtitle\u001b[0m\u001b[1;33m(\u001b[0m\u001b[1;34m'Elbow Method'\u001b[0m\u001b[1;33m)\u001b[0m\u001b[1;33m\u001b[0m\u001b[1;33m\u001b[0m\u001b[0m\n\u001b[0;32m     15\u001b[0m \u001b[0mplt\u001b[0m\u001b[1;33m.\u001b[0m\u001b[0mxlabel\u001b[0m\u001b[1;33m(\u001b[0m\u001b[1;34m'Number of Clusters'\u001b[0m\u001b[1;33m)\u001b[0m\u001b[1;33m\u001b[0m\u001b[1;33m\u001b[0m\u001b[0m\n",
      "\u001b[1;31mNameError\u001b[0m: name 'plt' is not defined"
     ]
    }
   ],
   "source": [
    "# Convert sparse matrix to dense matrix\n",
    "#X_dense = train_inputs.toarray()\n",
    "\n",
    "# Calculate WCSS for different values of n_clusters\n",
    "wcss = []\n",
    "max_clusters = 10  # Maximum number of clusters to consider\n",
    "for n_clusters in range(3, max_clusters + 1):\n",
    "    kmeans = KMeans(n_clusters=n_clusters, random_state=42)\n",
    "    kmeans.fit(train_inputs)\n",
    "    wcss.append(kmeans.inertia_)\n",
    "\n"
   ]
  },
  {
   "cell_type": "code",
   "execution_count": 24,
   "id": "5d58fed8",
   "metadata": {},
   "outputs": [
    {
     "data": {
      "image/png": "[encoded data removed]",
      "text/plain": [
       "<Figure size 640x480 with 1 Axes>"
      ]
     },
     "metadata": {},
     "output_type": "display_data"
    }
   ],
   "source": [
    "import matplotlib.pyplot as plt\n",
    "# Plot the WCSS values\n",
    "plt.plot(range(3, max_clusters + 1), wcss, marker='o')\n",
    "plt.title('Elbow Method')\n",
    "plt.xlabel('Number of Clusters')\n",
    "plt.ylabel('WCSS')\n",
    "plt.show()"
   ]
  },
  {
   "cell_type": "code",
   "execution_count": null,
   "id": "9caead35",
   "metadata": {},
   "outputs": [],
   "source": []
  }
 ],
 "metadata": {
  "kernelspec": {
   "display_name": "Python 3 (ipykernel)",
   "language": "python",
   "name": "python3"
  },
  "language_info": {
   "codemirror_mode": {
    "name": "ipython",
    "version": 3
   },
   "file_extension": ".py",
   "mimetype": "text/x-python",
   "name": "python",
   "nbconvert_exporter": "python",
   "pygments_lexer": "ipython3",
   "version": "3.9.13"
  }
 },
 "nbformat": 4,
 "nbformat_minor": 5
}
